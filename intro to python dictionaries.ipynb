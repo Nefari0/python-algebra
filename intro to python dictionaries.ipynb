{
 "cells": [
  {
   "cell_type": "code",
   "execution_count": 4,
   "metadata": {},
   "outputs": [],
   "source": [
    "from IPython.display import display, Math\n",
    "import numpy as np\n",
    "import math as math\n",
    "import sympy as sym"
   ]
  },
  {
   "cell_type": "code",
   "execution_count": 2,
   "metadata": {},
   "outputs": [
    {
     "name": "stdout",
     "output_type": "stream",
     "text": [
      "['banana', 'apple']\n",
      "1\n"
     ]
    }
   ],
   "source": [
    "# using dict() funtion to create dictionaries # specify dict(key= [value,pair])  \n",
    "D = dict(fruit=['banana','apple'],numbers=[1,3,4,2,7])\n",
    "\n",
    "# D.keys() # list keys\n",
    "\n",
    "print(D['fruit']) # access values from keys \n",
    "print(D['numbers'][0]) # access only one value\n",
    "# print(D)"
   ]
  },
  {
   "cell_type": "code",
   "execution_count": 12,
   "metadata": {},
   "outputs": [
    {
     "data": {
      "text/plain": [
       "['banana', 'apple']"
      ]
     },
     "execution_count": 12,
     "metadata": {},
     "output_type": "execute_result"
    }
   ],
   "source": [
    "D.get('fruit')[0] # another method for accessing values in dictionary\n"
   ]
  },
  {
   "cell_type": "code",
   "execution_count": 14,
   "metadata": {},
   "outputs": [
    {
     "name": "stdout",
     "output_type": "stream",
     "text": [
      "['banana', 'apple']\n",
      "[1, 3, 4, 2, 7]\n"
     ]
    }
   ],
   "source": [
    "for items in D:\n",
    "    print(D[items]) "
   ]
  },
  {
   "cell_type": "code",
   "execution_count": 175,
   "metadata": {},
   "outputs": [
    {
     "data": {
      "text/plain": [
       "'x'"
      ]
     },
     "metadata": {},
     "output_type": "display_data"
    },
    {
     "data": {
      "text/plain": [
       "'y'"
      ]
     },
     "metadata": {},
     "output_type": "display_data"
    }
   ],
   "source": [
    "# exercise.independent # use sympy (x,y)\n",
    "\n",
    "x,y = sym.symbols('x,y')\n",
    "\n",
    "xeq1 = sym.solve(4*x -6)\n",
    "xeq2 = sym.solve(x**2 - 9)\n",
    "yeq = sym.sin(y)\n",
    "\n",
    "D = dict(x=[xeq1,xeq2],y=[yeq])\n",
    "\n",
    "for i in D:\n",
    "    display(sym.latex(i))\n"
   ]
  },
  {
   "cell_type": "code",
   "execution_count": 164,
   "metadata": {},
   "outputs": [
    {
     "name": "stdout",
     "output_type": "stream",
     "text": [
      "solutions ofr equations involving X:\n"
     ]
    },
    {
     "data": {
      "text/latex": [
       "$\\displaystyle \\quad\\quad 4 x - 6 = 0\\quad \\ \\Rightarrow \\quad X = \\left[ \\frac{3}{2}\\right]$"
      ],
      "text/plain": [
       "<IPython.core.display.Math object>"
      ]
     },
     "metadata": {},
     "output_type": "display_data"
    },
    {
     "data": {
      "text/latex": [
       "$\\displaystyle \\quad\\quad x^{2} - 9 = 0\\quad \\ \\Rightarrow \\quad X = \\left[ -3, \\  3\\right]$"
      ],
      "text/plain": [
       "<IPython.core.display.Math object>"
      ]
     },
     "metadata": {},
     "output_type": "display_data"
    },
    {
     "name": "stdout",
     "output_type": "stream",
     "text": [
      "solutions ofr equations involving Y:\n"
     ]
    },
    {
     "data": {
      "text/latex": [
       "$\\displaystyle \\quad\\quad \\sin{\\left(y \\right)} = 0\\quad \\ \\Rightarrow \\quad Y = \\left[ 0, \\  \\pi\\right]$"
      ],
      "text/plain": [
       "<IPython.core.display.Math object>"
      ]
     },
     "metadata": {},
     "output_type": "display_data"
    }
   ],
   "source": [
    "# exercise.instructed\n",
    "D = dict(equationsWithX = [4*x-6,x**2-9],equatonsWithY = [sym.sin(y)])\n",
    "\n",
    "for keyi in D:\n",
    "    print('solutions for equations involving ' + keyi[-1] + ':')\n",
    "    \n",
    "    for eqi in D[keyi]:\n",
    "        \n",
    "        leftpart = sym.latex(eqi) + ' = 0'\n",
    "        middlepart = '\\\\quad \\\\ \\Rightarrow \\\\quad ' + keyi[-1] + ' = '\n",
    "        rightpart = sym.latex(sym.solve(eqi))\n",
    "        \n",
    "        display(Math('\\\\quad\\\\quad ' + leftpart + middlepart + rightpart))"
   ]
  },
  {
   "cell_type": "code",
   "execution_count": 26,
   "metadata": {},
   "outputs": [
    {
     "name": "stdout",
     "output_type": "stream",
     "text": [
      "2\n",
      "1\n"
     ]
    }
   ],
   "source": [
    "# experimental\n",
    "x,y = sym.symbols('x,y')\n",
    "D = dict(equationsWithX = [4*x-6,x**2-9],equatonsWithY = [sym.sin(y)])\n",
    "D['equationsWithX'][0] = 2\n",
    "print(len(D['equationsWithX']))\n",
    "print(len(D['equatonsWithY']))"
   ]
  },
  {
   "cell_type": "code",
   "execution_count": null,
   "metadata": {},
   "outputs": [],
   "source": [
    "# more notes converting dict keys to list\n",
    "\n",
    "number = 48\n",
    "\n",
    "factor_dict = sym.factorint(number) # computes prime factors. generates dictionary with prime factors\n",
    "\n",
    "print(factor_dict.keys()) # displays keys, values\n",
    "print(list(factor_dict)) # axtracts keys # converts to list"
   ]
  },
  {
   "cell_type": "code",
   "execution_count": 10,
   "metadata": {},
   "outputs": [
    {
     "data": {
      "text/plain": [
       "{2: 4, 3: 1}"
      ]
     },
     "metadata": {},
     "output_type": "display_data"
    }
   ],
   "source": [
    "# more notes converting dict keys to list\n",
    "\n",
    "D = dict(fruit=['banana','apple'],numbers=[1,3,4,2,7])\n",
    "\n",
    "number = 48\n",
    "\n",
    "factor_dict = sym.factorint(number) # computes prime factors. generates dictionary with prime factors\n",
    "\n",
    "# D.get('fruit')[0]\n",
    "# print(factor_dict.keys()) # displays keys, values\n",
    "# print(list(factor_dict)) # axtracts keys # converts to list\n",
    "display(sym.factorint(number))"
   ]
  }
 ],
 "metadata": {
  "kernelspec": {
   "display_name": "Python 3",
   "language": "python",
   "name": "python3"
  },
  "language_info": {
   "codemirror_mode": {
    "name": "ipython",
    "version": 3
   },
   "file_extension": ".py",
   "mimetype": "text/x-python",
   "name": "python",
   "nbconvert_exporter": "python",
   "pygments_lexer": "ipython3",
   "version": "3.7.6"
  }
 },
 "nbformat": 4,
 "nbformat_minor": 4
}
