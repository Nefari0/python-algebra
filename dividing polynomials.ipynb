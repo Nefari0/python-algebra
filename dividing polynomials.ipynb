{
 "cells": [
  {
   "cell_type": "code",
   "execution_count": 1,
   "metadata": {},
   "outputs": [],
   "source": [
    "# dividing polynomials"
   ]
  },
  {
   "cell_type": "code",
   "execution_count": 61,
   "metadata": {},
   "outputs": [],
   "source": [
    "from IPython.display import display, Math\n",
    "import sympy as sym\n",
    "import math as math\n",
    "import numpy as num"
   ]
  },
  {
   "cell_type": "code",
   "execution_count": 17,
   "metadata": {},
   "outputs": [
    {
     "data": {
      "text/latex": [
       "$\\displaystyle \\frac{4 x^{5} - x}{2 x^{3} - x} = \\frac{4 x^{5} - x}{2 x^{3} - x} $"
      ],
      "text/plain": [
       "<IPython.core.display.Math object>"
      ]
     },
     "metadata": {},
     "output_type": "display_data"
    },
    {
     "data": {
      "text/latex": [
       "$\\displaystyle \\frac{4 x^{5} - x}{2 x^{3} - x} = \\frac{4 x^{5}}{2 x^{3} - x} - \\frac{x}{2 x^{3} - x} $"
      ],
      "text/plain": [
       "<IPython.core.display.Math object>"
      ]
     },
     "metadata": {},
     "output_type": "display_data"
    },
    {
     "data": {
      "text/latex": [
       "$\\displaystyle \\frac{4 x^{5} - x}{2 x^{3} - x} = 2 x^{2} + 1 $"
      ],
      "text/plain": [
       "<IPython.core.display.Math object>"
      ]
     },
     "metadata": {},
     "output_type": "display_data"
    }
   ],
   "source": [
    "x,y = sym.symbols('x,y')\n",
    "p1 = 4*x**5 - x\n",
    "p2 = 2*x**3 - x\n",
    "\n",
    "display(Math('\\\\frac{%s}{%s} = %s '%(sym.latex(p1),sym.latex(p2),sym.latex(p1/p2))))\n",
    "display(Math('\\\\frac{%s}{%s} = %s '%(sym.latex(p1),sym.latex(p2),sym.latex(sym.expand(p1/p2)))))\n",
    "display(Math('\\\\frac{%s}{%s} = %s '%(sym.latex(p1),sym.latex(p2),sym.latex(sym.simplify(p1/p2)))))\n"
   ]
  },
  {
   "cell_type": "code",
   "execution_count": 169,
   "metadata": {},
   "outputs": [
    {
     "data": {
      "text/plain": [
       "[CRootOf(x**6 + 2*x**4 + 6*x - 5, 0),\n",
       " CRootOf(x**6 + 2*x**4 + 6*x - 5, 1),\n",
       " CRootOf(x**6 + 2*x**4 + 6*x - 5, 2),\n",
       " CRootOf(x**6 + 2*x**4 + 6*x - 5, 3),\n",
       " CRootOf(x**6 + 2*x**4 + 6*x - 5, 4),\n",
       " CRootOf(x**6 + 2*x**4 + 6*x - 5, 5)]"
      ]
     },
     "metadata": {},
     "output_type": "display_data"
    },
    {
     "data": {
      "text/plain": [
       "[CRootOf(x**6 + 2*x**4 + 6*x - 6, 0),\n",
       " CRootOf(x**6 + 2*x**4 + 6*x - 6, 1),\n",
       " CRootOf(x**6 + 2*x**4 + 6*x - 6, 2),\n",
       " CRootOf(x**6 + 2*x**4 + 6*x - 6, 3),\n",
       " CRootOf(x**6 + 2*x**4 + 6*x - 6, 4),\n",
       " CRootOf(x**6 + 2*x**4 + 6*x - 6, 5)]"
      ]
     },
     "metadata": {},
     "output_type": "display_data"
    },
    {
     "data": {
      "text/plain": [
       "[CRootOf(x**6 + 2*x**4 + 6*x - 7, 0),\n",
       " CRootOf(x**6 + 2*x**4 + 6*x - 7, 1),\n",
       " CRootOf(x**6 + 2*x**4 + 6*x - 7, 2),\n",
       " CRootOf(x**6 + 2*x**4 + 6*x - 7, 3),\n",
       " CRootOf(x**6 + 2*x**4 + 6*x - 7, 4),\n",
       " CRootOf(x**6 + 2*x**4 + 6*x - 7, 5)]"
      ]
     },
     "metadata": {},
     "output_type": "display_data"
    },
    {
     "data": {
      "text/plain": [
       "[CRootOf(x**6 + 2*x**4 + 6*x - 8, 0),\n",
       " CRootOf(x**6 + 2*x**4 + 6*x - 8, 1),\n",
       " CRootOf(x**6 + 2*x**4 + 6*x - 8, 2),\n",
       " CRootOf(x**6 + 2*x**4 + 6*x - 8, 3),\n",
       " CRootOf(x**6 + 2*x**4 + 6*x - 8, 4),\n",
       " CRootOf(x**6 + 2*x**4 + 6*x - 8, 5)]"
      ]
     },
     "metadata": {},
     "output_type": "display_data"
    },
    {
     "data": {
      "text/plain": [
       "[1, -1/2 - sqrt(11)*I/2, -1/2 + sqrt(11)*I/2]"
      ]
     },
     "metadata": {},
     "output_type": "display_data"
    },
    {
     "data": {
      "text/plain": [
       "[CRootOf(x**6 + 2*x**4 + 6*x - 10, 0),\n",
       " CRootOf(x**6 + 2*x**4 + 6*x - 10, 1),\n",
       " CRootOf(x**6 + 2*x**4 + 6*x - 10, 2),\n",
       " CRootOf(x**6 + 2*x**4 + 6*x - 10, 3),\n",
       " CRootOf(x**6 + 2*x**4 + 6*x - 10, 4),\n",
       " CRootOf(x**6 + 2*x**4 + 6*x - 10, 5)]"
      ]
     },
     "metadata": {},
     "output_type": "display_data"
    },
    {
     "data": {
      "text/plain": [
       "[CRootOf(x**6 + 2*x**4 + 6*x - 11, 0),\n",
       " CRootOf(x**6 + 2*x**4 + 6*x - 11, 1),\n",
       " CRootOf(x**6 + 2*x**4 + 6*x - 11, 2),\n",
       " CRootOf(x**6 + 2*x**4 + 6*x - 11, 3),\n",
       " CRootOf(x**6 + 2*x**4 + 6*x - 11, 4),\n",
       " CRootOf(x**6 + 2*x**4 + 6*x - 11, 5)]"
      ]
     },
     "metadata": {},
     "output_type": "display_data"
    },
    {
     "data": {
      "text/plain": [
       "[CRootOf(x**6 + 2*x**4 + 6*x - 12, 0),\n",
       " CRootOf(x**6 + 2*x**4 + 6*x - 12, 1),\n",
       " CRootOf(x**6 + 2*x**4 + 6*x - 12, 2),\n",
       " CRootOf(x**6 + 2*x**4 + 6*x - 12, 3),\n",
       " CRootOf(x**6 + 2*x**4 + 6*x - 12, 4),\n",
       " CRootOf(x**6 + 2*x**4 + 6*x - 12, 5)]"
      ]
     },
     "metadata": {},
     "output_type": "display_data"
    },
    {
     "data": {
      "text/plain": [
       "[CRootOf(x**6 + 2*x**4 + 6*x - 13, 0),\n",
       " CRootOf(x**6 + 2*x**4 + 6*x - 13, 1),\n",
       " CRootOf(x**6 + 2*x**4 + 6*x - 13, 2),\n",
       " CRootOf(x**6 + 2*x**4 + 6*x - 13, 3),\n",
       " CRootOf(x**6 + 2*x**4 + 6*x - 13, 4),\n",
       " CRootOf(x**6 + 2*x**4 + 6*x - 13, 5)]"
      ]
     },
     "metadata": {},
     "output_type": "display_data"
    },
    {
     "data": {
      "text/plain": [
       "[CRootOf(x**6 + 2*x**4 + 6*x - 14, 0),\n",
       " CRootOf(x**6 + 2*x**4 + 6*x - 14, 1),\n",
       " CRootOf(x**6 + 2*x**4 + 6*x - 14, 2),\n",
       " CRootOf(x**6 + 2*x**4 + 6*x - 14, 3),\n",
       " CRootOf(x**6 + 2*x**4 + 6*x - 14, 4),\n",
       " CRootOf(x**6 + 2*x**4 + 6*x - 14, 5)]"
      ]
     },
     "metadata": {},
     "output_type": "display_data"
    },
    {
     "data": {
      "text/plain": [
       "[CRootOf(x**6 + 2*x**4 + 6*x - 15, 0),\n",
       " CRootOf(x**6 + 2*x**4 + 6*x - 15, 1),\n",
       " CRootOf(x**6 + 2*x**4 + 6*x - 15, 2),\n",
       " CRootOf(x**6 + 2*x**4 + 6*x - 15, 3),\n",
       " CRootOf(x**6 + 2*x**4 + 6*x - 15, 4),\n",
       " CRootOf(x**6 + 2*x**4 + 6*x - 15, 5)]"
      ]
     },
     "metadata": {},
     "output_type": "display_data"
    },
    {
     "data": {
      "text/plain": [
       "(x**6 + 2*x**4 + 6*x - y, x**3 + 3)"
      ]
     },
     "metadata": {},
     "output_type": "display_data"
    },
    {
     "data": {
      "text/plain": [
       "(x**6 + 2*x**4 + 6*x - y, 1)"
      ]
     },
     "metadata": {},
     "output_type": "display_data"
    }
   ],
   "source": [
    "# experimental.exercise.independent\n",
    "# sub y with nums 1-15 to get polynomial without denominator\n",
    "# use sym.fraction\n",
    "\n",
    "polyfrac = (x**6 +2*x**4 + 6*x - y)/(x**3 + 3)\n",
    "numr = (x**6 +2*x**4 + 6*x - y)\n",
    "denom = (x**3 + 3)\n",
    "\n",
    "for i in range(5,16):\n",
    "    sub = numr.subs(y,i)\n",
    "    frac = sym.solve(sub/denom)\n",
    "    display(frac)\n",
    "    \n",
    "\n",
    "display(sym.fraction(polyfrac))\n",
    "display(sym.fraction(numr,denom))"
   ]
  },
  {
   "cell_type": "code",
   "execution_count": 198,
   "metadata": {},
   "outputs": [
    {
     "data": {
      "text/latex": [
       "$\\displaystyle \\frac{x^{6} + 2 x^{4} + 6 x - 5}{x^{3} + 3}$"
      ],
      "text/plain": [
       "(x**6 + 2*x**4 + 6*x - 5)/(x**3 + 3)"
      ]
     },
     "metadata": {},
     "output_type": "display_data"
    },
    {
     "data": {
      "text/latex": [
       "$\\displaystyle \\frac{x^{6} + 2 x^{4} + 6 x - 6}{x^{3} + 3}$"
      ],
      "text/plain": [
       "(x**6 + 2*x**4 + 6*x - 6)/(x**3 + 3)"
      ]
     },
     "metadata": {},
     "output_type": "display_data"
    },
    {
     "data": {
      "text/latex": [
       "$\\displaystyle \\frac{x^{6} + 2 x^{4} + 6 x - 7}{x^{3} + 3}$"
      ],
      "text/plain": [
       "(x**6 + 2*x**4 + 6*x - 7)/(x**3 + 3)"
      ]
     },
     "metadata": {},
     "output_type": "display_data"
    },
    {
     "data": {
      "text/latex": [
       "$\\displaystyle \\frac{x^{6} + 2 x^{4} + 6 x - 8}{x^{3} + 3}$"
      ],
      "text/plain": [
       "(x**6 + 2*x**4 + 6*x - 8)/(x**3 + 3)"
      ]
     },
     "metadata": {},
     "output_type": "display_data"
    },
    {
     "data": {
      "text/latex": [
       "$\\displaystyle x^{3} + 2 x - 3$"
      ],
      "text/plain": [
       "x**3 + 2*x - 3"
      ]
     },
     "metadata": {},
     "output_type": "display_data"
    },
    {
     "data": {
      "text/latex": [
       "$\\displaystyle x^{3} + 2 x - 3 \\text{ with y set to } 9 \\text{ has no denominator }$"
      ],
      "text/plain": [
       "<IPython.core.display.Math object>"
      ]
     },
     "metadata": {},
     "output_type": "display_data"
    },
    {
     "data": {
      "text/latex": [
       "$\\displaystyle \\frac{x^{6} + 2 x^{4} + 6 x - 10}{x^{3} + 3}$"
      ],
      "text/plain": [
       "(x**6 + 2*x**4 + 6*x - 10)/(x**3 + 3)"
      ]
     },
     "metadata": {},
     "output_type": "display_data"
    },
    {
     "data": {
      "text/latex": [
       "$\\displaystyle \\frac{x^{6} + 2 x^{4} + 6 x - 11}{x^{3} + 3}$"
      ],
      "text/plain": [
       "(x**6 + 2*x**4 + 6*x - 11)/(x**3 + 3)"
      ]
     },
     "metadata": {},
     "output_type": "display_data"
    },
    {
     "data": {
      "text/latex": [
       "$\\displaystyle \\frac{x^{6} + 2 x^{4} + 6 x - 12}{x^{3} + 3}$"
      ],
      "text/plain": [
       "(x**6 + 2*x**4 + 6*x - 12)/(x**3 + 3)"
      ]
     },
     "metadata": {},
     "output_type": "display_data"
    },
    {
     "data": {
      "text/latex": [
       "$\\displaystyle \\frac{x^{6} + 2 x^{4} + 6 x - 13}{x^{3} + 3}$"
      ],
      "text/plain": [
       "(x**6 + 2*x**4 + 6*x - 13)/(x**3 + 3)"
      ]
     },
     "metadata": {},
     "output_type": "display_data"
    },
    {
     "data": {
      "text/latex": [
       "$\\displaystyle \\frac{x^{6} + 2 x^{4} + 6 x - 14}{x^{3} + 3}$"
      ],
      "text/plain": [
       "(x**6 + 2*x**4 + 6*x - 14)/(x**3 + 3)"
      ]
     },
     "metadata": {},
     "output_type": "display_data"
    },
    {
     "data": {
      "text/latex": [
       "$\\displaystyle \\frac{x^{6} + 2 x^{4} + 6 x - 15}{x^{3} + 3}$"
      ],
      "text/plain": [
       "(x**6 + 2*x**4 + 6*x - 15)/(x**3 + 3)"
      ]
     },
     "metadata": {},
     "output_type": "display_data"
    }
   ],
   "source": [
    "# exercise.independent\n",
    "# sub y with nums 1-15 to get polynomial without denominator\n",
    "# use sym.fraction\n",
    "\n",
    "polyfrac = (x**6 +2*x**4 + 6*x - y)/(x**3 + 3)\n",
    "numr = (x**6 +2*x**4 + 6*x - y)\n",
    "denom = (x**3 + 3)\n",
    "\n",
    "for i in range(5,16):\n",
    "    sub = numr.subs(y,i)\n",
    "    frac = sym.simplify(sub/denom)\n",
    "    display(frac)\n",
    "    symFrac = (sym.fraction(frac))\n",
    "    if (symFrac[1]) == 1:\n",
    "        display(Math('%s \\\\text{ with y set to } %g \\\\text{ has no denominator }'%(sym.latex(frac),i)))\n",
    "    \n",
    "\n",
    "# display(sym.fraction(polyfrac))\n",
    "# display(sym.fraction(numr,denom))"
   ]
  },
  {
   "cell_type": "code",
   "execution_count": 209,
   "metadata": {},
   "outputs": [
    {
     "name": "stdout",
     "output_type": "stream",
     "text": [
      "(3, 1)\n"
     ]
    }
   ],
   "source": [
    "#  sym.fraction primer\n",
    "f = sym.sympify(3)\n",
    "\n",
    "finfo = sym.fraction(f)\n",
    "print(finfo)"
   ]
  },
  {
   "cell_type": "code",
   "execution_count": 215,
   "metadata": {},
   "outputs": [
    {
     "data": {
      "text/latex": [
       "$\\displaystyle \\frac{x^{6} + 2 x^{4} + 6 x - 5}{x^{3} + 3} = \\frac{x^{6} + 2 x^{4} + 6 x - 5}{x^{3} + 3} $"
      ],
      "text/plain": [
       "<IPython.core.display.Math object>"
      ]
     },
     "metadata": {},
     "output_type": "display_data"
    },
    {
     "data": {
      "text/latex": [
       "$\\displaystyle \\frac{x^{6} + 2 x^{4} + 6 x - 6}{x^{3} + 3} = \\frac{x^{6} + 2 x^{4} + 6 x - 6}{x^{3} + 3} $"
      ],
      "text/plain": [
       "<IPython.core.display.Math object>"
      ]
     },
     "metadata": {},
     "output_type": "display_data"
    },
    {
     "data": {
      "text/latex": [
       "$\\displaystyle \\frac{x^{6} + 2 x^{4} + 6 x - 7}{x^{3} + 3} = \\frac{x^{6} + 2 x^{4} + 6 x - 7}{x^{3} + 3} $"
      ],
      "text/plain": [
       "<IPython.core.display.Math object>"
      ]
     },
     "metadata": {},
     "output_type": "display_data"
    },
    {
     "data": {
      "text/latex": [
       "$\\displaystyle \\frac{x^{6} + 2 x^{4} + 6 x - 8}{x^{3} + 3} = \\frac{x^{6} + 2 x^{4} + 6 x - 8}{x^{3} + 3} $"
      ],
      "text/plain": [
       "<IPython.core.display.Math object>"
      ]
     },
     "metadata": {},
     "output_type": "display_data"
    },
    {
     "data": {
      "text/latex": [
       "$\\displaystyle \\frac{x^{6} + 2 x^{4} + 6 x - 9}{x^{3} + 3} = x^{3} + 2 x - 3 $"
      ],
      "text/plain": [
       "<IPython.core.display.Math object>"
      ]
     },
     "metadata": {},
     "output_type": "display_data"
    },
    {
     "data": {
      "text/latex": [
       "$\\displaystyle \\frac{x^{6} + 2 x^{4} + 6 x - 10}{x^{3} + 3} = \\frac{x^{6} + 2 x^{4} + 6 x - 10}{x^{3} + 3} $"
      ],
      "text/plain": [
       "<IPython.core.display.Math object>"
      ]
     },
     "metadata": {},
     "output_type": "display_data"
    },
    {
     "data": {
      "text/latex": [
       "$\\displaystyle \\frac{x^{6} + 2 x^{4} + 6 x - 11}{x^{3} + 3} = \\frac{x^{6} + 2 x^{4} + 6 x - 11}{x^{3} + 3} $"
      ],
      "text/plain": [
       "<IPython.core.display.Math object>"
      ]
     },
     "metadata": {},
     "output_type": "display_data"
    },
    {
     "data": {
      "text/latex": [
       "$\\displaystyle \\frac{x^{6} + 2 x^{4} + 6 x - 12}{x^{3} + 3} = \\frac{x^{6} + 2 x^{4} + 6 x - 12}{x^{3} + 3} $"
      ],
      "text/plain": [
       "<IPython.core.display.Math object>"
      ]
     },
     "metadata": {},
     "output_type": "display_data"
    },
    {
     "data": {
      "text/latex": [
       "$\\displaystyle \\frac{x^{6} + 2 x^{4} + 6 x - 13}{x^{3} + 3} = \\frac{x^{6} + 2 x^{4} + 6 x - 13}{x^{3} + 3} $"
      ],
      "text/plain": [
       "<IPython.core.display.Math object>"
      ]
     },
     "metadata": {},
     "output_type": "display_data"
    },
    {
     "data": {
      "text/latex": [
       "$\\displaystyle \\frac{x^{6} + 2 x^{4} + 6 x - 14}{x^{3} + 3} = \\frac{x^{6} + 2 x^{4} + 6 x - 14}{x^{3} + 3} $"
      ],
      "text/plain": [
       "<IPython.core.display.Math object>"
      ]
     },
     "metadata": {},
     "output_type": "display_data"
    },
    {
     "data": {
      "text/latex": [
       "$\\displaystyle \\frac{x^{6} + 2 x^{4} + 6 x - 15}{x^{3} + 3} = \\frac{x^{6} + 2 x^{4} + 6 x - 15}{x^{3} + 3} $"
      ],
      "text/plain": [
       "<IPython.core.display.Math object>"
      ]
     },
     "metadata": {},
     "output_type": "display_data"
    },
    {
     "name": "stdout",
     "output_type": "stream",
     "text": [
      "the answer that satisfies our goal ia y=9\n"
     ]
    }
   ],
   "source": [
    "# exercise.instructed\n",
    "x,y = sym.symbols('x,y')\n",
    "\n",
    "pNum = x**6 +2*x**4 +6*x-y\n",
    "pDem = x**3 + 3\n",
    "\n",
    "for yi in range(5,16):\n",
    "    \n",
    "    tempNum = pNum.subs(y,yi)\n",
    "    display(Math('%s = %s ' %(sym.latex(tempNum/pDem),sym.latex(sym.simplify(tempNum/pDem)))))\n",
    "    \n",
    "    if sym.fraction(sym.simplify(tempNum/pDem))[1]==1:\n",
    "        rightans = yi\n",
    "        \n",
    "print('the answer that satisfies our goal ia y=%g' %(rightans))"
   ]
  }
 ],
 "metadata": {
  "kernelspec": {
   "display_name": "Python 3",
   "language": "python",
   "name": "python3"
  },
  "language_info": {
   "codemirror_mode": {
    "name": "ipython",
    "version": 3
   },
   "file_extension": ".py",
   "mimetype": "text/x-python",
   "name": "python",
   "nbconvert_exporter": "python",
   "pygments_lexer": "ipython3",
   "version": "3.7.6"
  }
 },
 "nbformat": 4,
 "nbformat_minor": 4
}
