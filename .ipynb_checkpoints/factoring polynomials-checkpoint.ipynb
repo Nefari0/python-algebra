{
 "cells": [
  {
   "cell_type": "markdown",
   "metadata": {},
   "source": [
    "# factoring polynomials\n",
    "$$x^2 + 4x + 3  =  (x+1)(x3)$$"
   ]
  },
  {
   "cell_type": "code",
   "execution_count": 2,
   "metadata": {},
   "outputs": [],
   "source": [
    "from IPython.display import display, Math\n",
    "import sympy as sym\n",
    "import numpy as np\n",
    "import math"
   ]
  },
  {
   "cell_type": "code",
   "execution_count": 30,
   "metadata": {},
   "outputs": [
    {
     "data": {
      "text/latex": [
       "$\\displaystyle \\text{The polynomial } x^{2} + 4 x + 3 \\text{ is factorable: } \\left(x + 1\\right) \\left(x + 3\\right)$"
      ],
      "text/plain": [
       "<IPython.core.display.Math object>"
      ]
     },
     "metadata": {},
     "output_type": "display_data"
    },
    {
     "data": {
      "text/latex": [
       "$\\displaystyle \\text{The polynomial: } x^{2} + 4 x - 3 \\text{ is NOT factorable }$"
      ],
      "text/plain": [
       "<IPython.core.display.Math object>"
      ]
     },
     "metadata": {},
     "output_type": "display_data"
    }
   ],
   "source": [
    "x,y = sym.symbols('x,y')\n",
    "\n",
    "p1 = x**2 + 4*x + 3 # is factorable\n",
    "p2 = x**2 + 4*x - 3 #is not factorable\n",
    "p2_factored = sym.latex(sym.factor(p2))\n",
    "p1_factored = sym.latex(sym.factor(p1))\n",
    "\n",
    "display(Math('\\\\text{The polynomial } %s \\\\text{ is factorable: } %s'%(sym.latex(p1),p1_factored)))\n",
    "display(Math('\\\\text{The polynomial: } %s \\\\text{ is NOT factorable }' %(sym.latex(p2))))\n",
    "\n"
   ]
  },
  {
   "cell_type": "code",
   "execution_count": 38,
   "metadata": {},
   "outputs": [
    {
     "data": {
      "text/latex": [
       "$\\displaystyle \\text{Un-factored expression: } 2 x^{3} y + 2 x^{2} y + 4 x^{2} - 6 x y + 6 x$"
      ],
      "text/plain": [
       "<IPython.core.display.Math object>"
      ]
     },
     "metadata": {},
     "output_type": "display_data"
    },
    {
     "data": {
      "text/latex": [
       "$\\displaystyle \\text{Factored expression: } 2 x \\left(x^{2} y + x y + 2 x - 3 y + 3\\right)$"
      ],
      "text/plain": [
       "<IPython.core.display.Math object>"
      ]
     },
     "metadata": {},
     "output_type": "display_data"
    }
   ],
   "source": [
    "expr = 2*x**3 *y - 2*x**2 + 2*x**2*y + 6*x**2 - 6*x*y + 6*x\n",
    "display(Math('\\\\text{Un-factored expression: } %s'%sym.latex(expr)))\n",
    "display(Math('\\\\text{Factored expression: } %s'%sym.latex(sym.factor(expr))))\n",
    "# display(sym.factor(expr))\n",
    "# display(expr)"
   ]
  },
  {
   "cell_type": "markdown",
   "metadata": {},
   "source": [
    "## The following algorithm tests factorability between expressions\n",
    "\n",
    "#### In this example, we will be use this algorithm to test the following expressions:\n",
    "\n",
    "$$x^2 + 4x + 3$$\n",
    "\n",
    "$$2y^2-1$$\n",
    "\n",
    "$$3y^2 + 12y$$"
   ]
  },
  {
   "cell_type": "code",
   "execution_count": 42,
   "metadata": {},
   "outputs": [
    {
     "data": {
      "text/latex": [
       "$\\displaystyle x^{2} + 4 x + 3 \\quad \\Rightarrow \\quad x^{2} + 4 x + 3$"
      ],
      "text/plain": [
       "<IPython.core.display.Math object>"
      ]
     },
     "metadata": {},
     "output_type": "display_data"
    },
    {
     "data": {
      "text/latex": [
       "$\\displaystyle 2 y^{2} - 1 \\quad \\Rightarrow \\quad \\text{Not factorable}$"
      ],
      "text/plain": [
       "<IPython.core.display.Math object>"
      ]
     },
     "metadata": {},
     "output_type": "display_data"
    },
    {
     "data": {
      "text/latex": [
       "$\\displaystyle 3 y^{2} + 12 y \\quad \\Rightarrow \\quad 3 y^{2} + 12 y$"
      ],
      "text/plain": [
       "<IPython.core.display.Math object>"
      ]
     },
     "metadata": {},
     "output_type": "display_data"
    }
   ],
   "source": [
    "# Array of expressions to be tested\n",
    "exprs = [ x**2 + 4*x + 3 , 2*y**2-1 , 3*y**2 + 12*y]\n",
    "\n",
    "for ei in exprs:\n",
    "    stringfact = str(sym.factor(ei))\n",
    "    \n",
    "    if stringfact.find('(') !=-1:\n",
    "        display(Math('%s \\\\quad \\\\Rightarrow \\\\quad %s' %(sym.latex(ei),sym.latex(sym.latex(ei)))))\n",
    "    else:\n",
    "        display(Math('%s \\\\quad \\\\Rightarrow \\\\quad \\\\text{Not factorable}' %(sym.latex(ei))))\n"
   ]
  }
 ],
 "metadata": {
  "kernelspec": {
   "display_name": "Python 3",
   "language": "python",
   "name": "python3"
  },
  "language_info": {
   "codemirror_mode": {
    "name": "ipython",
    "version": 3
   },
   "file_extension": ".py",
   "mimetype": "text/x-python",
   "name": "python",
   "nbconvert_exporter": "python",
   "pygments_lexer": "ipython3",
   "version": "3.8.5"
  }
 },
 "nbformat": 4,
 "nbformat_minor": 4
}
