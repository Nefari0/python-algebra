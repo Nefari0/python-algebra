{
 "cells": [
  {
   "cell_type": "code",
   "execution_count": 1,
   "metadata": {},
   "outputs": [],
   "source": [
    "from IPython.display import display, Math\n",
    "import numpy as np\n",
    "import sympy as sym\n",
    "import math"
   ]
  },
  {
   "cell_type": "markdown",
   "metadata": {},
   "source": [
    "# Reducing fractions and greatest common denominator\n",
    "\n",
    "### If the gcd of a and b = c, then: $$a/b = (a/cc)/(b/cc) = (a/c)/(b/c)$$"
   ]
  },
  {
   "cell_type": "code",
   "execution_count": 30,
   "metadata": {},
   "outputs": [
    {
     "data": {
      "text/latex": [
       "$\\displaystyle \\text{The gcd of 16 and 88 = 8}$"
      ],
      "text/plain": [
       "<IPython.core.display.Math object>"
      ]
     },
     "metadata": {},
     "output_type": "display_data"
    },
    {
     "data": {
      "text/latex": [
       "$\\displaystyle \\frac{16}{88} = \\frac{2\\times 8}{11 \\times 8}$"
      ],
      "text/plain": [
       "<IPython.core.display.Math object>"
      ]
     },
     "metadata": {},
     "output_type": "display_data"
    }
   ],
   "source": [
    "# application or gcd\n",
    "\n",
    "a = 16\n",
    "b = 88\n",
    "c = math.gcd(a,b)\n",
    "\n",
    "display(Math('\\\\text{The gcd of %s and %s = %s}'%(a,b,c)))\n",
    "\n",
    "display(Math('\\\\frac{%g}{%g} = \\\\frac{%g\\\\times %g}{%g \\\\times %g}' %(a,b,a/fact,fact,b/fact,fact)))"
   ]
  },
  {
   "cell_type": "code",
   "execution_count": 74,
   "metadata": {},
   "outputs": [
    {
     "data": {
      "text/latex": [
       "$\\displaystyle \\text{In this example, we will set a = 5 and b = 6:}$"
      ],
      "text/plain": [
       "<IPython.core.display.Math object>"
      ]
     },
     "metadata": {},
     "output_type": "display_data"
    },
    {
     "data": {
      "text/latex": [
       "$\\displaystyle \\frac{a}{b} = 0.8333333333333334$"
      ],
      "text/plain": [
       "<IPython.core.display.Math object>"
      ]
     },
     "metadata": {},
     "output_type": "display_data"
    },
    {
     "data": {
      "text/latex": [
       "$\\displaystyle \\frac{\\frac{a}{c \\times c}} {\\frac{b}{c \\times c}} = 0.8333333333333334$"
      ],
      "text/plain": [
       "<IPython.core.display.Math object>"
      ]
     },
     "metadata": {},
     "output_type": "display_data"
    },
    {
     "data": {
      "text/latex": [
       "$\\displaystyle \\frac{\\frac{a}{c}} {\\frac{b}{c}} = 0.8333333333333334$"
      ],
      "text/plain": [
       "<IPython.core.display.Math object>"
      ]
     },
     "metadata": {},
     "output_type": "display_data"
    }
   ],
   "source": [
    "a = 5\n",
    "b = 6\n",
    "c = math.gcd(a,b)\n",
    "\n",
    "expr1 = a/b\n",
    "expr2 = (a/(c*c)) / (b/(c*c))\n",
    "expr3 = (a/c)/(b/c)\n",
    "\n",
    "display(Math('\\\\text{In this example, we will set a = %s and b = %s:}' %(a,b)))\n",
    "display(Math('\\\\frac{a}{b} = %s'%(sym.latex(expr2))))\n",
    "display(Math('\\\\frac{\\\\frac{a}{c \\\\times c}} {\\\\frac{b}{c \\\\times c}} = %s' %(expr2)))\n",
    "display(Math('\\\\frac{\\\\frac{a}{c}} {\\\\frac{b}{c}} = %s' %(expr3)))\n"
   ]
  }
 ],
 "metadata": {
  "kernelspec": {
   "display_name": "Python 3",
   "language": "python",
   "name": "python3"
  },
  "language_info": {
   "codemirror_mode": {
    "name": "ipython",
    "version": 3
   },
   "file_extension": ".py",
   "mimetype": "text/x-python",
   "name": "python",
   "nbconvert_exporter": "python",
   "pygments_lexer": "ipython3",
   "version": "3.8.5"
  }
 },
 "nbformat": 4,
 "nbformat_minor": 4
}
