{
 "cells": [
  {
   "cell_type": "code",
   "execution_count": 5,
   "metadata": {},
   "outputs": [],
   "source": [
    "from IPython.display import display, Math\n",
    "import sympy as sym\n",
    "import numpy as np"
   ]
  },
  {
   "cell_type": "markdown",
   "metadata": {},
   "source": [
    "# Associative, Comutative, Distributitive \n",
    "\n",
    "### Associative rule:\n",
    "$$  2(3x4) = (2x3)4 $$\n",
    "$$ 2(12) = (5)4 $$\n",
    "\n",
    "### Comutitive rule;\n",
    "$$ a(b) = b(a) $$ \n",
    "$$ abc = bac = cab $$\n",
    "\n",
    "\n",
    "### Distibutive rule:\n",
    "$$ x(y + z) = xy + xz $$"
   ]
  },
  {
   "cell_type": "code",
   "execution_count": 130,
   "metadata": {},
   "outputs": [
    {
     "data": {
      "text/latex": [
       "$\\displaystyle \\text{Associative property:}$"
      ],
      "text/plain": [
       "<IPython.core.display.Math object>"
      ]
     },
     "metadata": {},
     "output_type": "display_data"
    },
    {
     "data": {
      "text/latex": [
       "$\\displaystyle x \\times (4 \\times y)$"
      ],
      "text/plain": [
       "<IPython.core.display.Math object>"
      ]
     },
     "metadata": {},
     "output_type": "display_data"
    },
    {
     "data": {
      "text/latex": [
       "$\\displaystyle (x \\times 4) \\times y$"
      ],
      "text/plain": [
       "<IPython.core.display.Math object>"
      ]
     },
     "metadata": {},
     "output_type": "display_data"
    },
    {
     "data": {
      "text/latex": [
       "$\\displaystyle \\text{Subracting the second expression from the first yields:}0$"
      ],
      "text/plain": [
       "<IPython.core.display.Math object>"
      ]
     },
     "metadata": {},
     "output_type": "display_data"
    }
   ],
   "source": [
    "# Associative\n",
    "from sympy.abc import x,y\n",
    "\n",
    "expr1 = x*(4*y)\n",
    "expr2 = (x*4)*y\n",
    "\n",
    "execution = expr1 - expr2\n",
    "\n",
    "display(Math('\\\\text{Associative property:}'))\n",
    "\n",
    "display(Math('x \\\\times (4 \\\\times y)'))\n",
    "display(Math('(x \\\\times 4) \\\\times y'))\n",
    "display(Math('\\\\text{Subracting the second expression from the first yields:}%g' %(execution) ))\n"
   ]
  },
  {
   "cell_type": "code",
   "execution_count": 129,
   "metadata": {},
   "outputs": [
    {
     "data": {
      "text/latex": [
       "$\\displaystyle \\text{Commutative property:}$"
      ],
      "text/plain": [
       "<IPython.core.display.Math object>"
      ]
     },
     "metadata": {},
     "output_type": "display_data"
    },
    {
     "data": {
      "text/latex": [
       "$\\displaystyle 4 \\times x \\times y$"
      ],
      "text/plain": [
       "<IPython.core.display.Math object>"
      ]
     },
     "metadata": {},
     "output_type": "display_data"
    },
    {
     "data": {
      "text/latex": [
       "$\\displaystyle x \\times 4 \\times y$"
      ],
      "text/plain": [
       "<IPython.core.display.Math object>"
      ]
     },
     "metadata": {},
     "output_type": "display_data"
    },
    {
     "data": {
      "text/latex": [
       "$\\displaystyle y \\times x \\times 4$"
      ],
      "text/plain": [
       "<IPython.core.display.Math object>"
      ]
     },
     "metadata": {},
     "output_type": "display_data"
    },
    {
     "data": {
      "text/latex": [
       "$\\displaystyle \\text{Substituting 3 for x and 2 for y yields} \\quad 8*w*(4 - w) + 8*(w + 1)/w**2 \\quad\\text{in all cases}$"
      ],
      "text/plain": [
       "<IPython.core.display.Math object>"
      ]
     },
     "metadata": {},
     "output_type": "display_data"
    }
   ],
   "source": [
    "# Commutative\n",
    "\n",
    "e1 = 4*x*y\n",
    "e2 = x*4*y\n",
    "e3 = y*x*4\n",
    "\n",
    "# print('e1',e1.subs({x:3,y:2}) )\n",
    "# print('e2', e2.subs({x:3,y:2}) )\n",
    "# print('e3', e3.subs({x:3,y:2}) )\n",
    "\n",
    "display(Math('\\\\text{Commutative property:}'))\n",
    "\n",
    "display(Math('4 \\\\times x \\\\times y'))\n",
    "display(Math('x \\\\times 4 \\\\times y'))\n",
    "display(Math('y \\\\times x \\\\times 4'))\n",
    "display(Math('\\\\text{Substituting 3 for x and 2 for y yields} \\\\quad %s \\\\quad\\\\text{in all cases}'%e1.subs({x:3,y:2}) ))"
   ]
  },
  {
   "cell_type": "code",
   "execution_count": 128,
   "metadata": {},
   "outputs": [
    {
     "data": {
      "text/latex": [
       "$\\displaystyle \\text{Distributive property:}$"
      ],
      "text/plain": [
       "<IPython.core.display.Math object>"
      ]
     },
     "metadata": {},
     "output_type": "display_data"
    },
    {
     "data": {
      "text/latex": [
       "$\\displaystyle a c + a d$"
      ],
      "text/plain": [
       "a*c + a*d"
      ]
     },
     "metadata": {},
     "output_type": "display_data"
    },
    {
     "data": {
      "text/latex": [
       "$\\displaystyle a c + a d + b c + b d$"
      ],
      "text/plain": [
       "a*c + a*d + b*c + b*d"
      ]
     },
     "execution_count": 128,
     "metadata": {},
     "output_type": "execute_result"
    }
   ],
   "source": [
    "# Distributive property\n",
    "a,b,c,d = sym.symbols('a,b,c,d')\n",
    "\n",
    "expr1 = a*(c+d)\n",
    "expr2 = (a+b)*(c+d) \n",
    "\n",
    "display(Math('\\\\text{Distributive property:}'))\n",
    "display(sym.expand(expr1))\n",
    "sym.expand(expr2)"
   ]
  },
  {
   "cell_type": "code",
   "execution_count": 131,
   "metadata": {},
   "outputs": [
    {
     "data": {
      "text/latex": [
       "$\\displaystyle x = w \\left(4 - w\\right) + \\frac{w + 1}{w^{2}}$"
      ],
      "text/plain": [
       "<IPython.core.display.Math object>"
      ]
     },
     "metadata": {},
     "output_type": "display_data"
    },
    {
     "data": {
      "text/latex": [
       "$\\displaystyle \\text{Function 1 = } \\left(y + z\\right) \\left(w \\left(4 - w\\right) + \\frac{w + 1}{w^{2}}\\right)$"
      ],
      "text/plain": [
       "<IPython.core.display.Math object>"
      ]
     },
     "metadata": {},
     "output_type": "display_data"
    },
    {
     "data": {
      "text/latex": [
       "$\\displaystyle \\text{Function 2 = }\\left(w \\left(4 - w\\right) + \\frac{w + 1}{w^{2}}\\right)^{2} + \\frac{3}{w \\left(4 - w\\right) + \\frac{w + 1}{w^{2}}}$"
      ],
      "text/plain": [
       "<IPython.core.display.Math object>"
      ]
     },
     "metadata": {},
     "output_type": "display_data"
    },
    {
     "data": {
      "text/latex": [
       "$\\displaystyle \\text{Function 1} \\times \\text{Function 2 } - \\text{Function 2} \\times \\text{Function 1 } = 0$"
      ],
      "text/plain": [
       "<IPython.core.display.Math object>"
      ]
     },
     "metadata": {},
     "output_type": "display_data"
    }
   ],
   "source": [
    "x,y,z,w = sym.symbols('x,y,z,w')\n",
    "\n",
    "x = w*(4-w) + 1/w**2 * (1+w)\n",
    "f1 = x*(y+z)\n",
    "f2 = 3/x + x**2\n",
    "\n",
    "display(Math('x = %s'%(sym.latex(x))))\n",
    "display(Math('\\\\text{Function 1 = } %s'%(sym.latex(f1))))\n",
    "display(Math('\\\\text{Function 2 = }%s'%(sym.latex(f2))))\n",
    "\n",
    "display(Math('\\\\text{Function 1} \\\\times \\\\text{Function 2 } - \\\\text{Function 2} \\\\times \\\\text{Function 1 } = %s'%(sym.latex(f1*f2 - f2*f1)))) # shows that f1 and f2 are comutative if answer is 0"
   ]
  }
 ],
 "metadata": {
  "kernelspec": {
   "display_name": "Python 3",
   "language": "python",
   "name": "python3"
  },
  "language_info": {
   "codemirror_mode": {
    "name": "ipython",
    "version": 3
   },
   "file_extension": ".py",
   "mimetype": "text/x-python",
   "name": "python",
   "nbconvert_exporter": "python",
   "pygments_lexer": "ipython3",
   "version": "3.8.5"
  }
 },
 "nbformat": 4,
 "nbformat_minor": 4
}
