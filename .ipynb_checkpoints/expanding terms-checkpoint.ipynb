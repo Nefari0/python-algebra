{
 "cells": [
  {
   "cell_type": "code",
   "execution_count": 39,
   "metadata": {},
   "outputs": [],
   "source": [
    "import sympy as sym\n",
    "from IPython.display import display, Math\n",
    "from sympy.abc import y #declares y as variable\n",
    "from sympy.abc import x #declares x as variable"
   ]
  },
  {
   "cell_type": "markdown",
   "metadata": {},
   "source": [
    "# Expanding Terms"
   ]
  },
  {
   "cell_type": "code",
   "execution_count": 40,
   "metadata": {},
   "outputs": [
    {
     "data": {
      "text/latex": [
       "$\\displaystyle \\text{Non-expanded: }x \\left(4 x + 5\\right)$"
      ],
      "text/plain": [
       "<IPython.core.display.Math object>"
      ]
     },
     "metadata": {},
     "output_type": "display_data"
    },
    {
     "data": {
      "text/latex": [
       "$\\displaystyle \\text{Expended: } 4 x^{2} + 5 x$"
      ],
      "text/plain": [
       "<IPython.core.display.Math object>"
      ]
     },
     "metadata": {},
     "output_type": "display_data"
    }
   ],
   "source": [
    "term1 = (4*x + 5)\n",
    "term2 = x\n",
    "\n",
    "terms = term1*term2\n",
    "\n",
    "display(Math('\\\\text{Non-expanded: }%s'%sym.latex(terms)))\n",
    "display(Math('\\\\text{Expended: } %s'%sym.latex(sym.expand(terms))))"
   ]
  },
  {
   "cell_type": "code",
   "execution_count": 42,
   "metadata": {},
   "outputs": [
    {
     "data": {
      "text/latex": [
       "$\\displaystyle \\text{Non-expanded: }\\left(x - 7\\right) \\left(4 x + 5\\right)$"
      ],
      "text/plain": [
       "<IPython.core.display.Math object>"
      ]
     },
     "metadata": {},
     "output_type": "display_data"
    },
    {
     "data": {
      "text/latex": [
       "$\\displaystyle \\text{Expanded: } 4 x^{2} - 23 x - 35$"
      ],
      "text/plain": [
       "<IPython.core.display.Math object>"
      ]
     },
     "metadata": {},
     "output_type": "display_data"
    }
   ],
   "source": [
    "term3 = x-7\n",
    "\n",
    "display(Math('\\\\text{Non-expanded: }%s'%sym.latex(term1*term3)))\n",
    "display(Math('\\\\text{Expanded: } %s' %sym.latex(sym.expand(term1*term3))))"
   ]
  },
  {
   "cell_type": "code",
   "execution_count": 43,
   "metadata": {},
   "outputs": [
    {
     "data": {
      "text/latex": [
       "$\\displaystyle \\text{Non-expanded: } x \\left(- \\frac{5^{x}}{x} + 2 y^{2}\\right)$"
      ],
      "text/plain": [
       "<IPython.core.display.Math object>"
      ]
     },
     "metadata": {},
     "output_type": "display_data"
    },
    {
     "data": {
      "text/latex": [
       "$\\displaystyle \\text{Expanded} - 5^{x} + 2 x y^{2}$"
      ],
      "text/plain": [
       "<IPython.core.display.Math object>"
      ]
     },
     "metadata": {},
     "output_type": "display_data"
    }
   ],
   "source": [
    "\n",
    "\n",
    "expr = x*(2*y**2 -5**x/x)\n",
    "display(Math('\\\\text{Non-expanded: } %s' %sym.latex(expr)))\n",
    "\n",
    "display(Math('\\\\text{Expanded} %s' %sym.latex(sym.expand(expr))))"
   ]
  },
  {
   "cell_type": "code",
   "execution_count": 38,
   "metadata": {},
   "outputs": [],
   "source": [
    "%whos # view importred and declared items"
   ]
  },
  {
   "cell_type": "code",
   "execution_count": 44,
   "metadata": {},
   "outputs": [
    {
     "data": {
      "text/latex": [
       "$\\displaystyle \\text{A function of two variables:}$"
      ],
      "text/plain": [
       "<IPython.core.display.Math object>"
      ]
     },
     "metadata": {},
     "output_type": "display_data"
    },
    {
     "name": "stdout",
     "output_type": "stream",
     "text": [
      "when x = 0 and y = 0, f(x,y) = 8\n",
      "when x = 0 and y = 1, f(x,y) = 4\n",
      "when x = 0 and y = 2, f(x,y) = 0\n",
      "when x = 1 and y = 0, f(x,y) = 10\n",
      "when x = 1 and y = 1, f(x,y) = 5\n",
      "when x = 1 and y = 2, f(x,y) = 0\n",
      "when x = 2 and y = 0, f(x,y) = 12\n",
      "when x = 2 and y = 1, f(x,y) = 6\n",
      "when x = 2 and y = 2, f(x,y) = 0\n"
     ]
    }
   ],
   "source": [
    "from sympy.abc import x\n",
    "from sympy.abc import y\n",
    "fxy = (4+x)*(2-y)\n",
    "\n",
    "numrange = range(0,3)\n",
    "\n",
    "display(Math('\\\\text{A function of two variables:}'))\n",
    "\n",
    "for xi in numrange:\n",
    "    for yi in numrange:\n",
    "        print('when x = %g and y = %g, f(x,y) = %g' %(xi,yi,fxy.subs({x:xi,y:yi})))\n"
   ]
  }
 ],
 "metadata": {
  "kernelspec": {
   "display_name": "Python 3",
   "language": "python",
   "name": "python3"
  },
  "language_info": {
   "codemirror_mode": {
    "name": "ipython",
    "version": 3
   },
   "file_extension": ".py",
   "mimetype": "text/x-python",
   "name": "python",
   "nbconvert_exporter": "python",
   "pygments_lexer": "ipython3",
   "version": "3.8.5"
  }
 },
 "nbformat": 4,
 "nbformat_minor": 4
}
