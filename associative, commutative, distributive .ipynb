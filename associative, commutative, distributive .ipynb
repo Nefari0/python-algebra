{
 "cells": [
  {
   "cell_type": "code",
   "execution_count": null,
   "metadata": {},
   "outputs": [],
   "source": [
    "# associative, comutative, distributitive \n",
    "# associative rule \n",
    "# 2(3x4 = (2x3)4\n",
    "# 2(12) = (5)4\n",
    "# 24 = 24\n",
    "\n",
    "# comutitive rule\n",
    "# a*b = b*a \n",
    "# a*b*c=b*a*c=c*a*b\n",
    "\n",
    "\n",
    "# distibutive rule\n",
    "# x(y+ z) = xy+xz"
   ]
  },
  {
   "cell_type": "code",
   "execution_count": 101,
   "metadata": {},
   "outputs": [],
   "source": [
    "from IPython.display import display, Math\n",
    "import sympy as sym\n",
    "import numpy as np"
   ]
  },
  {
   "cell_type": "code",
   "execution_count": 5,
   "metadata": {},
   "outputs": [
    {
     "data": {
      "text/latex": [
       "$\\displaystyle 0$"
      ],
      "text/plain": [
       "0"
      ]
     },
     "execution_count": 5,
     "metadata": {},
     "output_type": "execute_result"
    }
   ],
   "source": [
    "# associa\n",
    "from sympy.abc import x,y\n",
    "\n",
    "expr1 = x*(4*y)\n",
    "expr2 = (x*4)*y\n",
    "\n",
    "expr1 - expr2\n"
   ]
  },
  {
   "cell_type": "code",
   "execution_count": 8,
   "metadata": {},
   "outputs": [
    {
     "name": "stdout",
     "output_type": "stream",
     "text": [
      "24\n",
      "24\n",
      "24\n"
     ]
    }
   ],
   "source": [
    "# commutative\n",
    "\n",
    "e1 = 4*x*y\n",
    "e2 = x*4*y\n",
    "e3 = y*x*4\n",
    "\n",
    "print( e1.subs({x:3,y:2}) )\n",
    "print( e2.subs({x:3,y:2}) )\n",
    "print( e3.subs({x:3,y:2}) )"
   ]
  },
  {
   "cell_type": "code",
   "execution_count": 32,
   "metadata": {},
   "outputs": [
    {
     "data": {
      "text/latex": [
       "$\\displaystyle a c + a d$"
      ],
      "text/plain": [
       "a*c + a*d"
      ]
     },
     "metadata": {},
     "output_type": "display_data"
    },
    {
     "data": {
      "text/latex": [
       "$\\displaystyle a c + a d + b c + b d$"
      ],
      "text/plain": [
       "a*c + a*d + b*c + b*d"
      ]
     },
     "execution_count": 32,
     "metadata": {},
     "output_type": "execute_result"
    }
   ],
   "source": [
    "# distributive prop\n",
    "a,b,c,d = sym.symbols('a,b,c,d')\n",
    "\n",
    "expr1 = a*(c+d)\n",
    "expr2 = (a+b)*(c+d) \n",
    "\n",
    "\n",
    "display(sym.expand(expr1))\n",
    "sym.expand(expr2)"
   ]
  },
  {
   "cell_type": "code",
   "execution_count": 99,
   "metadata": {},
   "outputs": [
    {
     "data": {
      "text/latex": [
       "$\\displaystyle \\frac{7051 y}{64} + \\frac{7051 z}{64}$"
      ],
      "text/plain": [
       "7051*y/64 + 7051*z/64"
      ]
     },
     "metadata": {},
     "output_type": "display_data"
    },
    {
     "data": {
      "text/latex": [
       "$\\displaystyle \\tilde{\\infty}$"
      ],
      "text/plain": [
       "zoo"
      ]
     },
     "metadata": {},
     "output_type": "display_data"
    },
    {
     "data": {
      "text/latex": [
       "$\\displaystyle \\frac{128}{5}$"
      ],
      "text/plain": [
       "128/5"
      ]
     },
     "metadata": {},
     "output_type": "display_data"
    },
    {
     "data": {
      "text/latex": [
       "$\\displaystyle \\frac{7051}{304}$"
      ],
      "text/plain": [
       "7051/304"
      ]
     },
     "metadata": {},
     "output_type": "display_data"
    },
    {
     "data": {
      "text/latex": [
       "$\\displaystyle \\frac{31978}{2511}$"
      ],
      "text/plain": [
       "31978/2511"
      ]
     },
     "metadata": {},
     "output_type": "display_data"
    },
    {
     "data": {
      "text/latex": [
       "$\\displaystyle \\frac{12413}{1280}$"
      ],
      "text/plain": [
       "12413/1280"
      ]
     },
     "metadata": {},
     "output_type": "display_data"
    },
    {
     "data": {
      "text/latex": [
       "$\\displaystyle \\frac{1638284}{74375}$"
      ],
      "text/plain": [
       "1638284/74375"
      ]
     },
     "metadata": {},
     "output_type": "display_data"
    },
    {
     "data": {
      "text/latex": [
       "$\\displaystyle \\frac{76625657}{550800}$"
      ],
      "text/plain": [
       "76625657/550800"
      ]
     },
     "metadata": {},
     "output_type": "display_data"
    },
    {
     "data": {
      "text/latex": [
       "$\\displaystyle \\frac{1063979314}{2451421}$"
      ],
      "text/plain": [
       "1063979314/2451421"
      ]
     },
     "metadata": {},
     "output_type": "display_data"
    },
    {
     "data": {
      "text/latex": [
       "$\\displaystyle \\frac{8476398887}{8351744}$"
      ],
      "text/plain": [
       "8476398887/8351744"
      ]
     },
     "metadata": {},
     "output_type": "display_data"
    },
    {
     "data": {
      "text/latex": [
       "$\\displaystyle \\frac{48028478552}{23849235}$"
      ],
      "text/plain": [
       "48028478552/23849235"
      ]
     },
     "metadata": {},
     "output_type": "display_data"
    }
   ],
   "source": [
    "# exercise\n",
    "\n",
    "w,x,y,z = sym.symbols('w,x,y,z')\n",
    "# from sympy.abc import x,y,w,z\n",
    "\n",
    "x = w*(4-w) + 1/w**2*(1+w)\n",
    "xsub = x.subs({w:2})\n",
    "f1 = x*(y+z)\n",
    "f2 = (3/x)+(x**2)\n",
    "\n",
    "mult = (f2.subs({x:xsub})*(f1.subs({x:xsub})))\n",
    "\n",
    "display(sym.simplify(mult))\n",
    "# display(sym.simplify(f1.subs({x:xsub})))\n",
    "# display(sym.simplify(f2.subs({x:xsub})))\n",
    "\n",
    "for i in range(10):\n",
    "    xsub = x.subs({w:i})\n",
    "    display(sym.simplify(f2.subs({x:xsub})))\n",
    "\n",
    "\n"
   ]
  },
  {
   "cell_type": "code",
   "execution_count": 113,
   "metadata": {},
   "outputs": [
    {
     "data": {
      "text/latex": [
       "$\\displaystyle \\left(y + z\\right) \\left(w \\left(4 - w\\right) + \\frac{w + 1}{w^{2}}\\right) \\left(\\left(w \\left(4 - w\\right) + \\frac{w + 1}{w^{2}}\\right)^{2} + \\frac{3}{w \\left(4 - w\\right) + \\frac{w + 1}{w^{2}}}\\right)$"
      ],
      "text/plain": [
       "<IPython.core.display.Math object>"
      ]
     },
     "metadata": {},
     "output_type": "display_data"
    },
    {
     "data": {
      "text/latex": [
       "$\\displaystyle \\frac{\\left(3 w^{6} + \\left(- w^{3} \\left(w - 4\\right) + w + 1\\right)^{3}\\right) \\left(y + z\\right)}{w^{6}}$"
      ],
      "text/plain": [
       "<IPython.core.display.Math object>"
      ]
     },
     "metadata": {},
     "output_type": "display_data"
    },
    {
     "data": {
      "text/latex": [
       "$\\displaystyle 0$"
      ],
      "text/plain": [
       "<IPython.core.display.Math object>"
      ]
     },
     "metadata": {},
     "output_type": "display_data"
    }
   ],
   "source": [
    "# exercise.instructed\n",
    "\n",
    "x,y,z,w = sym.symbols('x,y,z,w')\n",
    "\n",
    "x = w*(4-w) + 1/w**2 * (1+w)\n",
    "f1 = x*(y+z)\n",
    "f2 = 3/x + x**2\n",
    "\n",
    "display(Math(sym.latex(f1*f2)))\n",
    "display(Math(sym.latex(sym.simplify(f1*f2))))\n",
    "\n",
    "display(Math(sym.latex(f1*f2 - f2*f1))) # shows that f1 and f2 are comutative if answer is 0"
   ]
  },
  {
   "cell_type": "code",
   "execution_count": 107,
   "metadata": {},
   "outputs": [
    {
     "data": {
      "text/latex": [
       "$\\displaystyle \\frac{7051 y}{64} + \\frac{7051 z}{64}$"
      ],
      "text/plain": [
       "7051*y/64 + 7051*z/64"
      ]
     },
     "metadata": {},
     "output_type": "display_data"
    },
    {
     "ename": "IndexError",
     "evalue": "index 10 is out of bounds for axis 1 with size 10",
     "output_type": "error",
     "traceback": [
      "\u001b[1;31m---------------------------------------------------------------------------\u001b[0m",
      "\u001b[1;31mIndexError\u001b[0m                                Traceback (most recent call last)",
      "\u001b[1;32m<ipython-input-107-ff11c3d4dbb5>\u001b[0m in \u001b[0;36m<module>\u001b[1;34m\u001b[0m\n\u001b[0;32m     19\u001b[0m \u001b[1;32mfor\u001b[0m \u001b[0mrowi\u001b[0m \u001b[1;32min\u001b[0m \u001b[0mrange\u001b[0m\u001b[1;33m(\u001b[0m\u001b[1;36m11\u001b[0m\u001b[1;33m)\u001b[0m\u001b[1;33m:\u001b[0m\u001b[1;33m\u001b[0m\u001b[1;33m\u001b[0m\u001b[0m\n\u001b[0;32m     20\u001b[0m     \u001b[1;32mfor\u001b[0m \u001b[0mcoli\u001b[0m \u001b[1;32min\u001b[0m \u001b[0mrange\u001b[0m\u001b[1;33m(\u001b[0m\u001b[1;36m11\u001b[0m\u001b[1;33m)\u001b[0m\u001b[1;33m:\u001b[0m\u001b[1;33m\u001b[0m\u001b[1;33m\u001b[0m\u001b[0m\n\u001b[1;32m---> 21\u001b[1;33m         \u001b[0mmat\u001b[0m\u001b[1;33m[\u001b[0m\u001b[0mrowi\u001b[0m\u001b[1;33m,\u001b[0m\u001b[0mcoli\u001b[0m\u001b[1;33m]\u001b[0m \u001b[1;33m=\u001b[0m \u001b[1;33m(\u001b[0m\u001b[0mxsub\u001b[0m\u001b[1;33m)\u001b[0m\u001b[1;33m\u001b[0m\u001b[1;33m\u001b[0m\u001b[0m\n\u001b[0m",
      "\u001b[1;31mIndexError\u001b[0m: index 10 is out of bounds for axis 1 with size 10"
     ]
    }
   ],
   "source": [
    "# eperimental\n",
    "\n",
    "w,x,y,z = sym.symbols('w,x,y,z')\n",
    "# from sympy.abc import x,y,w,z\n",
    "\n",
    "mat = np.zeros([10,10])\n",
    "\n",
    "x = w*(4-w) + 1/w**2*(1+w)\n",
    "xsub = x.subs({w:2})\n",
    "f1 = x*(y+z)\n",
    "f2 = (3/x)+(x**2)\n",
    "\n",
    "mult = (f2.subs({x:xsub})*(f1.subs({x:xsub})))\n",
    "\n",
    "display(sym.simplify(mult))\n",
    "# display(sym.simplify(f1.subs({x:xsub})))\n",
    "# display(sym.simplify(f2.subs({x:xsub})))\n",
    "\n",
    "for rowi in range(11):\n",
    "    for coli in range(11):\n",
    "        mat[rowi,coli] = (xsub)"
   ]
  },
  {
   "cell_type": "code",
   "execution_count": null,
   "metadata": {},
   "outputs": [],
   "source": []
  }
 ],
 "metadata": {
  "kernelspec": {
   "display_name": "Python 3",
   "language": "python",
   "name": "python3"
  },
  "language_info": {
   "codemirror_mode": {
    "name": "ipython",
    "version": 3
   },
   "file_extension": ".py",
   "mimetype": "text/x-python",
   "name": "python",
   "nbconvert_exporter": "python",
   "pygments_lexer": "ipython3",
   "version": "3.7.6"
  }
 },
 "nbformat": 4,
 "nbformat_minor": 4
}
