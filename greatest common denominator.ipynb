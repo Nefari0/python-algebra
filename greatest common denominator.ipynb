{
 "cells": [
  {
   "cell_type": "code",
   "execution_count": null,
   "metadata": {},
   "outputs": [],
   "source": [
    "# reducing fractions\n",
    "# if gcd(a,b) = c, then a/b = (a/c*c)/(b/c*c) = (a/c)/(b/c)\n",
    "# gdc(6/15) = 3, so 6/15 = (6/3*3)/(15/3*3) = (6/3)/(15/3) = (2/5)"
   ]
  },
  {
   "cell_type": "code",
   "execution_count": 3,
   "metadata": {},
   "outputs": [],
   "source": [
    "from IPython.display import display, Math\n",
    "import numpy as np\n",
    "import sympy as sym\n",
    "import math"
   ]
  },
  {
   "cell_type": "code",
   "execution_count": 7,
   "metadata": {},
   "outputs": [
    {
     "data": {
      "text/plain": [
       "4"
      ]
     },
     "execution_count": 7,
     "metadata": {},
     "output_type": "execute_result"
    }
   ],
   "source": [
    "math.gcd(4,16) # greatest common denominator"
   ]
  },
  {
   "cell_type": "code",
   "execution_count": 18,
   "metadata": {},
   "outputs": [
    {
     "data": {
      "text/latex": [
       "$\\displaystyle \\frac{16}{88} = \\frac{2\\times 8}{11 \\times 8}$"
      ],
      "text/plain": [
       "<IPython.core.display.Math object>"
      ]
     },
     "metadata": {},
     "output_type": "display_data"
    }
   ],
   "source": [
    "# application or gcd\n",
    "\n",
    "a = 16\n",
    "b = 88\n",
    "\n",
    "fact = math.gcd(a,b)\n",
    "\n",
    "display(Math('\\\\frac{%g}{%g} = \\\\frac{%g\\\\times %g}{%g \\\\times %g}' %(a,b,a/fact,fact,b/fact,fact)))"
   ]
  },
  {
   "cell_type": "code",
   "execution_count": 47,
   "metadata": {},
   "outputs": [
    {
     "name": "stdout",
     "output_type": "stream",
     "text": [
      "3.0\n"
     ]
    },
    {
     "data": {
      "text/latex": [
       "$\\displaystyle 45,60 = 15 \\times  3\\times4 $"
      ],
      "text/plain": [
       "<IPython.core.display.Math object>"
      ]
     },
     "metadata": {},
     "output_type": "display_data"
    }
   ],
   "source": [
    "# exercise1.independant.show that gcd(ca,cb) = cgcd(a,b)\n",
    "a,b,c = sym.symbols('a,b,c')\n",
    "ca = 45\n",
    "cb = 60\n",
    "c = [10]\n",
    "c[0] = math.gcd(ca,cb)\n",
    "\n",
    "\n",
    "print(ca/c[0])\n",
    "\n",
    "# display(Math('\\\\text{the gcd of} %g,%g = %g \\\\times \\\\text\\\\{the gcd of} %g\\\\times%g ' %(ca,cb,c[0],ca,cb)))\n",
    "display(Math('%g,%g = %g \\\\times  %g\\\\times%g ' %(ca,cb,c[0],ca/c[0],cb/c[0])))"
   ]
  },
  {
   "cell_type": "code",
   "execution_count": 207,
   "metadata": {},
   "outputs": [
    {
     "name": "stdout",
     "output_type": "stream",
     "text": [
      "[[99 99 99 99 99 99 99 99 99 99 99 99 99 99 99]\n",
      " [99 99 99 99 99 99 99 99 99 99 99 99 99 99 99]\n",
      " [99 99 99 99 99 99 99 99 99 99 99 99 99 99 99]\n",
      " [99 99 99 99 99 99 99 99 99 99 99 99 99 99 99]\n",
      " [99 99 99 99 99 99 99 99 99 99 99 99 99 99 99]\n",
      " [99 99 99 99 99 99 99 99 99 99 99 99 99 99 99]\n",
      " [99 99 99 99 99 99 99 99 99 99 99 99 99 99 99]\n",
      " [99 99 99 99 99 99 99 99 99 99 99 99 99 99 99]\n",
      " [99 99 99 99 99 99 99 99 99 99 99 99 99 99 99]\n",
      " [99 99 99 99 99 99 99 99 99 99 99 99 99 99 99]]\n"
     ]
    }
   ],
   "source": [
    "# exercise2.independent\n",
    "rownums = range(0,10)\n",
    "colnums = range(0,15)\n",
    "\n",
    "mat = np.zeros((len(rownums),len(colnums)),dtype=int)+99# creates matrix called mat\n",
    "\n",
    "# for rowi in rownums: # sets mat elements = 99\n",
    "#     for coli in colnums:\n",
    "#         mat[rowi,coli] = 99\n",
    "print(mat)"
   ]
  },
  {
   "cell_type": "code",
   "execution_count": 237,
   "metadata": {},
   "outputs": [
    {
     "name": "stdout",
     "output_type": "stream",
     "text": [
      "[[99 99 99 99 99 99 99 99 99 99 99 99 99 99 99]\n",
      " [99 99 99 99 99 99 99 99 99 99 99 99 99 99 99]\n",
      " [99 99 99 99 99 99 99 99 99 99 99 99 99 99 99]\n",
      " [99 99 99 99 99 99 99 99 99 99 99 99 99 99 99]\n",
      " [99 99 99 99 99 99 99 99 99 99 99 99 99 99 99]\n",
      " [99 99 99 99 99 99 99 99 99 99 99 99 99 99 99]\n",
      " [99 99 99 99 99 99 99 99 99 99 99 99 99 99 99]\n",
      " [99 99 99 99 99 99 99 99 99 99 99 99 99 99 99]\n",
      " [99 99 99 99 99 99 99 99 99 99 99 99 99 99 99]\n",
      " [99 99 99 99 99 99 99 99 99 99 99 99 99 99 99]]\n"
     ]
    }
   ],
   "source": [
    "# experimental\n",
    "rownums = range(0,10)\n",
    "colnums = range(0,15)\n",
    "\n",
    "mat = np.zeros((len(rownums),len(colnums)),dtype=int)+99# creates matrix called mat\n",
    "\n",
    "# for rowi in rownums:\n",
    "#     for coli in colnums:\n",
    "#         mat[rowi,coli] = math.gcd(rowi,coli)\n",
    "print(mat)"
   ]
  },
  {
   "cell_type": "code",
   "execution_count": 203,
   "metadata": {},
   "outputs": [
    {
     "name": "stdout",
     "output_type": "stream",
     "text": [
      "c\n",
      "c\n",
      "9\n",
      "9\n"
     ]
    }
   ],
   "source": [
    "# exercise1.instructed\n",
    "\n",
    "a,b,c = sym.symbols('a,b,c')\n",
    "\n",
    "print(sym.gcd(a*c,b*c))\n",
    "print(c*sym.gcd(a,b))\n",
    "\n",
    "a = 15\n",
    "b = 6\n",
    "c = 3\n",
    "\n",
    "print(math.gcd(a*c,b*c))\n",
    "print(c*math.gcd(a,b)) "
   ]
  },
  {
   "cell_type": "code",
   "execution_count": 7,
   "metadata": {},
   "outputs": [
    {
     "ename": "NameError",
     "evalue": "name 'n' is not defined",
     "output_type": "error",
     "traceback": [
      "\u001b[1;31m---------------------------------------------------------------------------\u001b[0m",
      "\u001b[1;31mNameError\u001b[0m                                 Traceback (most recent call last)",
      "\u001b[1;32m<ipython-input-7-11752e20dc26>\u001b[0m in \u001b[0;36m<module>\u001b[1;34m\u001b[0m\n\u001b[0;32m      5\u001b[0m \u001b[0mgcdMat\u001b[0m \u001b[1;33m=\u001b[0m \u001b[0mnp\u001b[0m\u001b[1;33m.\u001b[0m\u001b[0mzeros\u001b[0m\u001b[1;33m(\u001b[0m\u001b[1;33m[\u001b[0m\u001b[0mro\u001b[0m\u001b[1;33m,\u001b[0m\u001b[0mco\u001b[0m\u001b[1;33m]\u001b[0m\u001b[1;33m,\u001b[0m\u001b[0mdtype\u001b[0m\u001b[1;33m=\u001b[0m\u001b[0mint\u001b[0m\u001b[1;33m)\u001b[0m\u001b[1;33m+\u001b[0m\u001b[1;36m99\u001b[0m\u001b[1;33m\u001b[0m\u001b[1;33m\u001b[0m\u001b[0m\n\u001b[0;32m      6\u001b[0m \u001b[1;33m\u001b[0m\u001b[0m\n\u001b[1;32m----> 7\u001b[1;33m \u001b[1;32mfor\u001b[0m \u001b[0mrowi\u001b[0m \u001b[1;32min\u001b[0m \u001b[0mrange\u001b[0m\u001b[1;33m(\u001b[0m\u001b[1;36m0\u001b[0m\u001b[1;33m,\u001b[0m\u001b[0mn\u001b[0m\u001b[1;33m)\u001b[0m\u001b[1;33m:\u001b[0m\u001b[1;33m\u001b[0m\u001b[1;33m\u001b[0m\u001b[0m\n\u001b[0m\u001b[0;32m      8\u001b[0m     \u001b[1;32mfor\u001b[0m \u001b[0mcoli\u001b[0m \u001b[1;32min\u001b[0m \u001b[0mrange\u001b[0m\u001b[1;33m(\u001b[0m\u001b[1;36m0\u001b[0m\u001b[1;33m,\u001b[0m\u001b[0mm\u001b[0m\u001b[1;33m)\u001b[0m\u001b[1;33m:\u001b[0m\u001b[1;33m\u001b[0m\u001b[1;33m\u001b[0m\u001b[0m\n\u001b[0;32m      9\u001b[0m         \u001b[0mgcdMat\u001b[0m\u001b[1;33m[\u001b[0m\u001b[0mrowi\u001b[0m\u001b[1;33m,\u001b[0m\u001b[0mcoli\u001b[0m\u001b[1;33m]\u001b[0m \u001b[1;33m=\u001b[0m \u001b[0mmath\u001b[0m\u001b[1;33m.\u001b[0m\u001b[0mgcd\u001b[0m\u001b[1;33m(\u001b[0m\u001b[0mrowi\u001b[0m\u001b[1;33m+\u001b[0m\u001b[1;36m1\u001b[0m\u001b[1;33m,\u001b[0m\u001b[0mcoli\u001b[0m\u001b[1;33m+\u001b[0m\u001b[1;36m1\u001b[0m\u001b[1;33m)\u001b[0m\u001b[1;33m\u001b[0m\u001b[1;33m\u001b[0m\u001b[0m\n",
      "\u001b[1;31mNameError\u001b[0m: name 'n' is not defined"
     ]
    }
   ],
   "source": [
    "# exercise2.instructed\n",
    "ro = 10\n",
    "co = 15\n",
    "\n",
    "gcdMat = np.zeros([ro,co],dtype=int)+99\n",
    "\n",
    "for rowi in range(0,n):\n",
    "    for coli in range(0,m):\n",
    "        gcdMat[rowi,coli] = math.gcd(rowi+1,coli+1)\n",
    "\n",
    "display(Math(sym.latex(sym.sympify(gcdMat))))\n",
    "\n"
   ]
  },
  {
   "cell_type": "code",
   "execution_count": 4,
   "metadata": {},
   "outputs": [
    {
     "ename": "NameError",
     "evalue": "name 'm' is not defined",
     "output_type": "error",
     "traceback": [
      "\u001b[1;31m---------------------------------------------------------------------------\u001b[0m",
      "\u001b[1;31mNameError\u001b[0m                                 Traceback (most recent call last)",
      "\u001b[1;32m<ipython-input-4-9a40b379906c>\u001b[0m in \u001b[0;36m<module>\u001b[1;34m\u001b[0m\n\u001b[1;32m----> 1\u001b[1;33m \u001b[0mm\u001b[0m\u001b[1;33m\u001b[0m\u001b[1;33m\u001b[0m\u001b[0m\n\u001b[0m",
      "\u001b[1;31mNameError\u001b[0m: name 'm' is not defined"
     ]
    }
   ],
   "source": [
    "m"
   ]
  }
 ],
 "metadata": {
  "kernelspec": {
   "display_name": "Python 3",
   "language": "python",
   "name": "python3"
  },
  "language_info": {
   "codemirror_mode": {
    "name": "ipython",
    "version": 3
   },
   "file_extension": ".py",
   "mimetype": "text/x-python",
   "name": "python",
   "nbconvert_exporter": "python",
   "pygments_lexer": "ipython3",
   "version": "3.7.6"
  }
 },
 "nbformat": 4,
 "nbformat_minor": 4
}
