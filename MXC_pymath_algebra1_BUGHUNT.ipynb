{
 "cells": [
  {
   "cell_type": "markdown",
   "metadata": {},
   "source": [
    "# BUG HUNT!"
   ]
  },
  {
   "cell_type": "code",
   "execution_count": 65,
   "metadata": {},
   "outputs": [
    {
     "name": "stdout",
     "output_type": "stream",
     "text": [
      "4\n"
     ]
    }
   ],
   "source": [
    "import sympy as sym\n",
    "\n",
    "from sympy.abc import x # this was my solution\n",
    "\n",
    "x2 = sym.symbols('x2')\n",
    "x2 = 4\n",
    "\n",
    "print(x2)"
   ]
  },
  {
   "cell_type": "code",
   "execution_count": 67,
   "metadata": {},
   "outputs": [
    {
     "data": {
      "text/latex": [
       "$\\displaystyle 5 a^{2} + 4 b - c^{3} + 5 d$"
      ],
      "text/plain": [
       "5*a**2 + 4*b - c**3 + 5*d"
      ]
     },
     "metadata": {},
     "output_type": "display_data"
    }
   ],
   "source": [
    "a,b,c,d = sym.symbols('a,b,c,d')\n",
    "\n",
    "expr = 4*b + 5*a*a - c**3 + 5*d\n",
    "\n",
    "display(expr)"
   ]
  },
  {
   "cell_type": "code",
   "execution_count": 68,
   "metadata": {},
   "outputs": [
    {
     "data": {
      "text/plain": [
       "10"
      ]
     },
     "execution_count": 68,
     "metadata": {},
     "output_type": "execute_result"
    }
   ],
   "source": [
    "import math # my solution #also advised approach\n",
    "math.gcd(30,50)\n",
    "\n",
    "# from math import gcd -another solution"
   ]
  },
  {
   "cell_type": "code",
   "execution_count": 70,
   "metadata": {},
   "outputs": [
    {
     "data": {
      "text/plain": [
       "[2]"
      ]
     },
     "execution_count": 70,
     "metadata": {},
     "output_type": "execute_result"
    }
   ],
   "source": [
    "x = sym.symbols('x')\n",
    "\n",
    "expr = 4*x - 8\n",
    "\n",
    "sym.solve(expr)"
   ]
  },
  {
   "cell_type": "code",
   "execution_count": 72,
   "metadata": {},
   "outputs": [
    {
     "data": {
      "text/latex": [
       "$\\displaystyle \\left[\\begin{matrix}1 & 2\\\\3 & 4\\end{matrix}\\right]$"
      ],
      "text/plain": [
       "[[1, 2], [3, 4]]"
      ]
     },
     "metadata": {},
     "output_type": "display_data"
    },
    {
     "data": {
      "text/latex": [
       "$\\displaystyle \\left[\\begin{matrix}1 & 2\\\\3 & 4\\end{matrix}\\right]$"
      ],
      "text/plain": [
       "<IPython.core.display.Math object>"
      ]
     },
     "metadata": {},
     "output_type": "display_data"
    }
   ],
   "source": [
    "import numpy as np\n",
    "\n",
    "# A = np.array( [ [1,2],[3,4] ] )\n",
    "A = np.array( [ [1,2],[3,4] ] )\n",
    "# make it look nice\n",
    "display(sym.sympify(A)) # my approach\n",
    "display(Math(sym.latex(sym.sympify(A)))) # instructed approach"
   ]
  },
  {
   "cell_type": "code",
   "execution_count": 77,
   "metadata": {},
   "outputs": [
    {
     "name": "stdout",
     "output_type": "stream",
     "text": [
      "---my approach\n",
      "0 was present 2 times.\n",
      "1 was present 11 times.\n",
      "#----------------------\n",
      "instructed approach (portions of code were rewritten)\n",
      "2 was present 2 times.\n",
      "11 was present 1 times.\n"
     ]
    }
   ],
   "source": [
    "print('---my approach')\n",
    "fact_dict = sym.factorint(44)\n",
    "# allkeys = fact_dict.keys()\n",
    "allkeys = list(fact_dict.keys()) # line i added\n",
    "\n",
    "\n",
    "for i in range(0,len(allkeys)):\n",
    "    print('%g was present %g times.' %(i,allkeys[i]))\n",
    "\n",
    "print('#----------------------')\n",
    "print('instructed approach (portions of code were rewritten)')\n",
    "allkeys = list(fact_dict.keys())\n",
    "\n",
    "\n",
    "\n",
    "for i in fact_dict:\n",
    "    print('%g was present %g times.' %(i,fact_dict[i]))"
   ]
  },
  {
   "cell_type": "code",
   "execution_count": 78,
   "metadata": {},
   "outputs": [
    {
     "data": {
      "text/latex": [
       "$\\displaystyle 20 - 5 y^{2}$"
      ],
      "text/plain": [
       "20 - 5*y**2"
      ]
     },
     "execution_count": 78,
     "metadata": {},
     "output_type": "execute_result"
    }
   ],
   "source": [
    "x,y = sym.symbols('x,y')\n",
    "\n",
    "expr = 4*x - 5*y**2\n",
    "\n",
    "expr.subs({x:5}) \n"
   ]
  },
  {
   "cell_type": "code",
   "execution_count": 81,
   "metadata": {},
   "outputs": [
    {
     "name": "stdout",
     "output_type": "stream",
     "text": [
      "my approach\n"
     ]
    },
    {
     "data": {
      "text/latex": [
       "$\\displaystyle \\frac{5}{9}$"
      ],
      "text/plain": [
       "<IPython.core.display.Math object>"
      ]
     },
     "metadata": {},
     "output_type": "display_data"
    },
    {
     "data": {
      "text/latex": [
       "$\\displaystyle 0.5555555555555556$"
      ],
      "text/plain": [
       "<IPython.core.display.Math object>"
      ]
     },
     "metadata": {},
     "output_type": "display_data"
    },
    {
     "name": "stdout",
     "output_type": "stream",
     "text": [
      "-----------------------\n",
      "instructed approach\n"
     ]
    },
    {
     "data": {
      "text/latex": [
       "$\\displaystyle \\frac{5}{9}$"
      ],
      "text/plain": [
       "5/9"
      ]
     },
     "execution_count": 81,
     "metadata": {},
     "output_type": "execute_result"
    }
   ],
   "source": [
    "print('my approach')\n",
    "# goal is to show a fraction\n",
    "from IPython.display import display, Math\n",
    "\n",
    "f = 5\n",
    "g = 9\n",
    "fg = f/g\n",
    "\n",
    "display(Math('\\\\frac{%g}{%g}' %(f,g)))\n",
    "display(Math('%s' %(fg)))\n",
    "\n",
    "print('-----------------------')\n",
    "print('instructed approach')\n",
    "\n",
    "f = sym.sympify(5)/9 # sympify only one letter (this case, numerator)\n",
    "f"
   ]
  },
  {
   "cell_type": "code",
   "execution_count": 53,
   "metadata": {},
   "outputs": [
    {
     "data": {
      "text/plain": [
       "[5, 3, 7]"
      ]
     },
     "execution_count": 53,
     "metadata": {},
     "output_type": "execute_result"
    }
   ],
   "source": [
    "# print the last 3 items from a list\n",
    "lst = [1,3,2,5,4,6,7,5,3,7]\n",
    "lst[-3:]\n"
   ]
  },
  {
   "cell_type": "code",
   "execution_count": 83,
   "metadata": {},
   "outputs": [
    {
     "data": {
      "text/plain": [
       "[-x/2]"
      ]
     },
     "execution_count": 83,
     "metadata": {},
     "output_type": "execute_result"
    }
   ],
   "source": [
    "from sympy.abc import x,y\n",
    "\n",
    "expr = 2*x + 4*y\n",
    "\n",
    "# solve for y\n",
    "sym.solve(expr,y)"
   ]
  },
  {
   "cell_type": "code",
   "execution_count": 59,
   "metadata": {},
   "outputs": [
    {
     "data": {
      "text/latex": [
       "$\\displaystyle \\left[\\begin{matrix}1 & 2\\\\3 & 9\\end{matrix}\\right]$"
      ],
      "text/plain": [
       "[[1, 2], [3, 9]]"
      ]
     },
     "metadata": {},
     "output_type": "display_data"
    }
   ],
   "source": [
    "import numpy as np\n",
    "\n",
    "A = np.array( [ [1,2],[3,4] ] )\n",
    "\n",
    "# set the element in the second row, second column to 9\n",
    "A[1,1] = 9\n",
    "display(sym.sympify(A))\n",
    "\n",
    "#-------------instructed\n",
    "A = np.array( [ [1,2],[3,4] ] )\n",
    "\n",
    "# set the element in the second row, second column to 9\n",
    "A[1,1] = 9\n",
    "display(sym.sympify(A))"
   ]
  }
 ],
 "metadata": {
  "kernelspec": {
   "display_name": "Python 3",
   "language": "python",
   "name": "python3"
  },
  "language_info": {
   "codemirror_mode": {
    "name": "ipython",
    "version": 3
   },
   "file_extension": ".py",
   "mimetype": "text/x-python",
   "name": "python",
   "nbconvert_exporter": "python",
   "pygments_lexer": "ipython3",
   "version": "3.7.6"
  }
 },
 "nbformat": 4,
 "nbformat_minor": 2
}
