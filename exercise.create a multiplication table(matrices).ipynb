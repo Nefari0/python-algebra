{
 "cells": [
  {
   "cell_type": "code",
   "execution_count": 74,
   "metadata": {},
   "outputs": [],
   "source": [
    "from IPython.display import display, Math\n",
    "import sympy as sym\n",
    "import numpy as np"
   ]
  },
  {
   "cell_type": "code",
   "execution_count": 47,
   "metadata": {},
   "outputs": [
    {
     "data": {
      "text/latex": [
       "$\\displaystyle \\left[\\begin{matrix}1.0 & 2.0 & 3.0 & 4.0 & 5.0 & 6.0 & 7.0 & 8.0 & 9.0 & 10.0\\\\2.0 & 4.0 & 6.0 & 8.0 & 10.0 & 12.0 & 14.0 & 16.0 & 18.0 & 20.0\\\\3.0 & 6.0 & 9.0 & 12.0 & 15.0 & 18.0 & 21.0 & 24.0 & 27.0 & 30.0\\\\4.0 & 8.0 & 12.0 & 16.0 & 20.0 & 24.0 & 28.0 & 32.0 & 36.0 & 40.0\\\\5.0 & 10.0 & 15.0 & 20.0 & 25.0 & 30.0 & 35.0 & 40.0 & 45.0 & 50.0\\\\6.0 & 12.0 & 18.0 & 24.0 & 30.0 & 36.0 & 42.0 & 48.0 & 54.0 & 60.0\\\\7.0 & 14.0 & 21.0 & 28.0 & 35.0 & 42.0 & 49.0 & 56.0 & 63.0 & 70.0\\\\8.0 & 16.0 & 24.0 & 32.0 & 40.0 & 48.0 & 56.0 & 64.0 & 72.0 & 80.0\\\\9.0 & 18.0 & 27.0 & 36.0 & 45.0 & 54.0 & 63.0 & 72.0 & 81.0 & 90.0\\\\10.0 & 20.0 & 30.0 & 40.0 & 50.0 & 60.0 & 70.0 & 80.0 & 90.0 & 100.0\\end{matrix}\\right]$"
      ],
      "text/plain": [
       "<IPython.core.display.Math object>"
      ]
     },
     "metadata": {},
     "output_type": "display_data"
    }
   ],
   "source": [
    "# exercise.independent\n",
    "numrange = range(0,10)\n",
    "mat = np.zeros([10,10])\n",
    "\n",
    "\n",
    "for rowi in numrange:\n",
    "    for coli in numrange:\n",
    "        mat[rowi,coli] = (rowi+1)*(coli+1)\n",
    "        \n",
    "#  mat[0,0] = 1\n",
    "display(Math(sym.latex(sym.sympify(mat))))"
   ]
  },
  {
   "cell_type": "markdown",
   "metadata": {},
   "source": [
    "for rowi i in numrange:\n",
    "    print(numrange)"
   ]
  },
  {
   "cell_type": "code",
   "execution_count": 76,
   "metadata": {},
   "outputs": [
    {
     "ename": "IndexError",
     "evalue": "index 1 is out of bounds for axis 0 with size 1",
     "output_type": "error",
     "traceback": [
      "\u001b[1;31m---------------------------------------------------------------------------\u001b[0m",
      "\u001b[1;31mIndexError\u001b[0m                                Traceback (most recent call last)",
      "\u001b[1;32m<ipython-input-76-8115ef7d4c5d>\u001b[0m in \u001b[0;36m<module>\u001b[1;34m\u001b[0m\n\u001b[0;32m      6\u001b[0m \u001b[1;32mfor\u001b[0m \u001b[0mrowi\u001b[0m \u001b[1;32min\u001b[0m \u001b[0mnumrange\u001b[0m\u001b[1;33m:\u001b[0m\u001b[1;33m\u001b[0m\u001b[1;33m\u001b[0m\u001b[0m\n\u001b[0;32m      7\u001b[0m     \u001b[1;32mfor\u001b[0m \u001b[0mcoli\u001b[0m \u001b[1;32min\u001b[0m \u001b[0mnumrange\u001b[0m\u001b[1;33m:\u001b[0m\u001b[1;33m\u001b[0m\u001b[1;33m\u001b[0m\u001b[0m\n\u001b[1;32m----> 8\u001b[1;33m         \u001b[0mmat\u001b[0m\u001b[1;33m[\u001b[0m\u001b[0mrowi\u001b[0m\u001b[1;33m,\u001b[0m\u001b[0mcoli\u001b[0m\u001b[1;33m]\u001b[0m \u001b[1;33m=\u001b[0m \u001b[1;33m(\u001b[0m\u001b[0mrowi\u001b[0m\u001b[1;33m)\u001b[0m\u001b[1;33m*\u001b[0m\u001b[1;33m(\u001b[0m\u001b[0mcoli\u001b[0m\u001b[1;33m)\u001b[0m\u001b[1;33m\u001b[0m\u001b[1;33m\u001b[0m\u001b[0m\n\u001b[0m\u001b[0;32m      9\u001b[0m \u001b[1;33m\u001b[0m\u001b[0m\n\u001b[0;32m     10\u001b[0m \u001b[1;31m#  mat[0,0] = 1\u001b[0m\u001b[1;33m\u001b[0m\u001b[1;33m\u001b[0m\u001b[1;33m\u001b[0m\u001b[0m\n",
      "\u001b[1;31mIndexError\u001b[0m: index 1 is out of bounds for axis 0 with size 1"
     ]
    }
   ],
   "source": [
    "#experimental\n",
    "numrange = range(0,11)\n",
    "mat = np.zeros([1,11])\n",
    "\n",
    "\n",
    "for rowi in numrange:\n",
    "    for coli in numrange:\n",
    "        mat[rowi,coli] = (rowi)*(coli)\n",
    "        \n",
    "#  mat[0,0] = 1\n",
    "display(Math(sym.latex(sym.sympify(mat))))"
   ]
  },
  {
   "cell_type": "code",
   "execution_count": 91,
   "metadata": {},
   "outputs": [
    {
     "data": {
      "text/latex": [
       "$\\displaystyle \\left[\\begin{matrix}1 & 2 & 3 & 4 & 5 & 6 & 7 & 8 & 9 & 10\\\\2 & 4 & 6 & 8 & 10 & 12 & 14 & 16 & 18 & 20\\\\3 & 6 & 9 & 12 & 15 & 18 & 21 & 24 & 27 & 30\\\\4 & 8 & 12 & 16 & 20 & 24 & 28 & 32 & 36 & 40\\\\5 & 10 & 15 & 20 & 25 & 30 & 35 & 40 & 45 & 50\\\\6 & 12 & 18 & 24 & 30 & 36 & 42 & 48 & 54 & 60\\\\7 & 14 & 21 & 28 & 35 & 42 & 49 & 56 & 63 & 70\\\\8 & 16 & 24 & 32 & 40 & 48 & 56 & 64 & 72 & 80\\\\9 & 18 & 27 & 36 & 45 & 54 & 63 & 72 & 81 & 90\\\\10 & 20 & 30 & 40 & 50 & 60 & 70 & 80 & 90 & 100\\end{matrix}\\right]$"
      ],
      "text/plain": [
       "<IPython.core.display.Math object>"
      ]
     },
     "metadata": {},
     "output_type": "display_data"
    }
   ],
   "source": [
    "#exercise.inde\n",
    "nums = range(1,11)\n",
    "\n",
    "matmult = np.zeros((len(nums),len(nums)),dtype=int) # dtype=int removes '.0' from each element\n",
    "\n",
    "for rowi in nums:\n",
    "    for coli in nums:\n",
    "        matmult[rowi-1,coli-1] = (rowi)*(coli)\n",
    "                   \n",
    "display(Math(sym.latex(sym.sympify(matmult))))"
   ]
  },
  {
   "cell_type": "code",
   "execution_count": null,
   "metadata": {},
   "outputs": [],
   "source": []
  }
 ],
 "metadata": {
  "kernelspec": {
   "display_name": "Python 3",
   "language": "python",
   "name": "python3"
  },
  "language_info": {
   "codemirror_mode": {
    "name": "ipython",
    "version": 3
   },
   "file_extension": ".py",
   "mimetype": "text/x-python",
   "name": "python",
   "nbconvert_exporter": "python",
   "pygments_lexer": "ipython3",
   "version": "3.7.6"
  }
 },
 "nbformat": 4,
 "nbformat_minor": 4
}
