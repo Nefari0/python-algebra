{
 "cells": [
  {
   "cell_type": "code",
   "execution_count": 1,
   "metadata": {},
   "outputs": [],
   "source": [
    "# multiplying polynomials\n",
    "# rule of multiplying exponents; y**a * x**a * x**b = y**a * x**(y+a)\n",
    "\n",
    "# example of multiplying polynomials; (x**5 + 2xy + y**2)(x - 3xy) = x**6 - 3x**6y + 2x**2y - 6x**2y**2 + xy**2 c- 3xy**3\n",
    "#  basically expand all terms"
   ]
  },
  {
   "cell_type": "code",
   "execution_count": 2,
   "metadata": {},
   "outputs": [],
   "source": [
    "from IPython.display import display,Math\n",
    "import sympy as sym\n",
    "import numpy as np\n",
    "import math"
   ]
  },
  {
   "cell_type": "code",
   "execution_count": 12,
   "metadata": {},
   "outputs": [
    {
     "data": {
      "text/latex": [
       "$\\displaystyle - 3 x^{10} y + x^{10} - 12 x^{6} y^{2} + 4 x^{6} y - 6 x^{5} y^{3} + 2 x^{5} y^{2} - 12 x^{2} y^{3} + 4 x^{2} y^{2} - 12 x y^{4} + 4 x y^{3} - 3 y^{5} + y^{4}$"
      ],
      "text/plain": [
       "-3*x**10*y + x**10 - 12*x**6*y**2 + 4*x**6*y - 6*x**5*y**3 + 2*x**5*y**2 - 12*x**2*y**3 + 4*x**2*y**2 - 12*x*y**4 + 4*x*y**3 - 3*y**5 + y**4"
      ]
     },
     "metadata": {},
     "output_type": "display_data"
    }
   ],
   "source": [
    "x,y = sym.symbols('x,y')\n",
    "x = (x**5 + 2*x*y + y**2)\n",
    "y = (x - 3*x*y)\n",
    "display(sym.expand(x*y))"
   ]
  },
  {
   "cell_type": "code",
   "execution_count": 14,
   "metadata": {},
   "outputs": [
    {
     "data": {
      "text/latex": [
       "$\\displaystyle x^{5} + x^{3}$"
      ],
      "text/plain": [
       "x**5 + x**3"
      ]
     },
     "execution_count": 14,
     "metadata": {},
     "output_type": "execute_result"
    }
   ],
   "source": [
    "x = sym.symbols('x')\n",
    "\n",
    "x**5 + x**3"
   ]
  },
  {
   "cell_type": "code",
   "execution_count": 22,
   "metadata": {},
   "outputs": [
    {
     "data": {
      "text/latex": [
       "$\\displaystyle 4 x^{5} - 2 x^{4} - 4 x^{2} + 2 x$"
      ],
      "text/plain": [
       "<IPython.core.display.Math object>"
      ]
     },
     "metadata": {},
     "output_type": "display_data"
    },
    {
     "data": {
      "text/latex": [
       "$\\displaystyle \\left(4 x^{2} - 2 x\\right) \\left(x^{3} - 1\\right)$"
      ],
      "text/plain": [
       "<IPython.core.display.Math object>"
      ]
     },
     "metadata": {},
     "output_type": "display_data"
    }
   ],
   "source": [
    "p1 = 4*x**2 - 2*x\n",
    "p2 = x**3 - 1\n",
    "\n",
    "display(Math(sym.latex(sym.expand(p1*p2))))\n",
    "display(Math(sym.latex(p1*p2)))"
   ]
  },
  {
   "cell_type": "code",
   "execution_count": 58,
   "metadata": {},
   "outputs": [
    {
     "data": {
      "text/latex": [
       "$\\displaystyle 2517$"
      ],
      "text/plain": [
       "<IPython.core.display.Math object>"
      ]
     },
     "metadata": {},
     "output_type": "display_data"
    },
    {
     "data": {
      "text/latex": [
       "$\\displaystyle -181.4$"
      ],
      "text/plain": [
       "<IPython.core.display.Math object>"
      ]
     },
     "metadata": {},
     "output_type": "display_data"
    },
    {
     "data": {
      "text/latex": [
       "$\\displaystyle -456583.8$"
      ],
      "text/plain": [
       "<IPython.core.display.Math object>"
      ]
     },
     "metadata": {},
     "output_type": "display_data"
    },
    {
     "data": {
      "text/latex": [
       "$\\displaystyle -456583.8$"
      ],
      "text/plain": [
       "<IPython.core.display.Math object>"
      ]
     },
     "metadata": {},
     "output_type": "display_data"
    }
   ],
   "source": [
    "# exercise.independent\n",
    "x,y = sym.symbols('x,y')\n",
    "\n",
    "poly1 = sym.Poly(4*x**4 - 3*x**2 + x*y**2 - 9*y**3)\n",
    "poly2 = sym.Poly(x**3 + 6*x**2*y +.8*y**3)\n",
    "polymult = sym.expand(poly1*poly2)\n",
    "\n",
    "subpoly1 = poly1.subs({x:5,y:-2})\n",
    "subpoly2 = poly2.subs({x:5,y:-2})\n",
    "subpolymult = polymult.subs({x:5,y:-2})\n",
    "\n",
    "subitems = [subpoly1,subpoly2,subpolymult]\n",
    "\n",
    "for i in subitems:\n",
    "    display(Math(sym.latex(i)))\n",
    "display(Math(sym.latex(subitems[0]*subitems[1],subitems[2])))"
   ]
  },
  {
   "cell_type": "code",
   "execution_count": 66,
   "metadata": {},
   "outputs": [
    {
     "data": {
      "text/latex": [
       "$\\displaystyle (4 x^{4} - 3 x^{2} + x y^{2} - 9 y^{3}) \\times (- x^{3} + 6 x^{2} y + 0.8 y^{3}) = - 4 x^{7} + 24 x^{6} y + 3 x^{5} + 3.2 x^{4} y^{3} - x^{4} y^{2} - 18 x^{4} y + 15 x^{3} y^{3} - 54 x^{2} y^{4} - 2.4 x^{2} y^{3} + 0.8 x y^{5} - 7.2 y^{6}$"
      ],
      "text/plain": [
       "<IPython.core.display.Math object>"
      ]
     },
     "metadata": {},
     "output_type": "display_data"
    }
   ],
   "source": [
    "# exercise.intructed\n",
    "x,y = sym.symbols('x,y')\n",
    "\n",
    "fxy = 4*x**4 - 9*y**3 - 3*x**2 + x*y**2\n",
    "gxy = .8*y**3 - x**3 + 6*x**2*y\n",
    "\n",
    "display(Math('(%s) \\\\times (%s) = %s' %(sym.latex(fxy),sym.latex(gxy),sym.latex(sym.expand(fxy*gxy)))))\n",
    "# continued in next cell"
   ]
  },
  {
   "cell_type": "code",
   "execution_count": 74,
   "metadata": {},
   "outputs": [
    {
     "name": "stdout",
     "output_type": "stream",
     "text": [
      "multiplied solutions is -1085833.80000000\n",
      "Seperate solutions comes to -1085833.80000000\n"
     ]
    }
   ],
   "source": [
    "# exercise.instructed.continued\n",
    "xval = 5\n",
    "yval = -2\n",
    "\n",
    "fg = (fxy*gxy).subs({x:xval,y:yval})\n",
    "print('multiplied solutions is %s' %(fg))\n",
    "\n",
    "fxy_ans = fxy.subs({x:xval,y:yval})\n",
    "gxy_ans = gxy.subs({x:xval,y:yval})\n",
    "print('Seperate solutions comes to %s' %(fxy_ans*gxy_ans))"
   ]
  },
  {
   "cell_type": "code",
   "execution_count": 84,
   "metadata": {},
   "outputs": [
    {
     "name": "stdout",
     "output_type": "stream",
     "text": [
      "is\n",
      "is\n",
      "4*x**4 - 3*x**2 + x*y**2 - 9*y**3\n",
      "4*x**4 - 3*x**2 + x*y**2 - 9*y**3\n"
     ]
    }
   ],
   "source": [
    "# eperimental.\n",
    "x,y = sym.symbols('x,y')\n",
    "\n",
    "poly1 = 4*x**4 - 3*x**2 + x*y**2 - 9*y**3\n",
    "poly2 = x**3 + 6*x**2*y +.8*y**3\n",
    "polymult = sym.expand(poly1*poly2)\n",
    "\n",
    "subpoly1 = poly1.subs({x:5,y:-2})\n",
    "subpoly2 = poly2.subs({x:5,y:-2})\n",
    "subpolymult = polymult.subs({x:5,y:-2})\n",
    "\n",
    "subitems = [subpoly1,subpoly2,subpolymult]\n",
    "\n",
    "# for i in subitems:\n",
    "#     display(Math(sym.latex(i)))\n",
    "# display(Math(sym.latex(subitems[0]*subitems[1],subitems[2])))\n",
    "\n",
    "if poly1 == fxy:\n",
    "    print('is')\n",
    "if subpoly1 == fxy_ans:\n",
    "    print('is')\n",
    "    \n",
    "print(poly1)\n",
    "print(fxy)"
   ]
  }
 ],
 "metadata": {
  "kernelspec": {
   "display_name": "Python 3",
   "language": "python",
   "name": "python3"
  },
  "language_info": {
   "codemirror_mode": {
    "name": "ipython",
    "version": 3
   },
   "file_extension": ".py",
   "mimetype": "text/x-python",
   "name": "python",
   "nbconvert_exporter": "python",
   "pygments_lexer": "ipython3",
   "version": "3.7.6"
  }
 },
 "nbformat": 4,
 "nbformat_minor": 4
}
