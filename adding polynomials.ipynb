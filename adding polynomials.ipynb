{
 "cells": [
  {
   "cell_type": "code",
   "execution_count": 2,
   "metadata": {},
   "outputs": [],
   "source": [
    "# adding polynomials"
   ]
  },
  {
   "cell_type": "code",
   "execution_count": 2,
   "metadata": {},
   "outputs": [],
   "source": [
    "from IPython.display import display, Math\n",
    "import math\n",
    "import sympy as sym\n",
    "import numpy as no"
   ]
  },
  {
   "cell_type": "code",
   "execution_count": 13,
   "metadata": {},
   "outputs": [
    {
     "data": {
      "text/latex": [
       "$\\displaystyle  (2 x^{3} + x^{2} - x) + (- x^{4} + x^{3} - 4 x^{2}) = (x^{4} + x^{3} + 5 x^{2} - x)$"
      ],
      "text/plain": [
       "<IPython.core.display.Math object>"
      ]
     },
     "metadata": {},
     "output_type": "display_data"
    }
   ],
   "source": [
    "from sympy.abc import x\n",
    "\n",
    "p1 = 2*x**3 +x**2 - x\n",
    "p2 = x**3 - x**4 - 4*x**2\n",
    "\n",
    "display(Math(' (%s) + (%s) = (%s)'%(sym.latex(p1),sym.latex(p2),sym.latex(p1-p2))))"
   ]
  },
  {
   "cell_type": "code",
   "execution_count": 51,
   "metadata": {},
   "outputs": [
    {
     "data": {
      "text/latex": [
       "$\\displaystyle 18$"
      ],
      "text/plain": [
       "18"
      ]
     },
     "execution_count": 51,
     "metadata": {},
     "output_type": "execute_result"
    }
   ],
   "source": [
    "# another technique for solving polynomials\n",
    "from sympy.abc import x\n",
    "p1 = sym.Poly(2*x**3 + x**2 -x)\n",
    "p2 = sym.Poly(3*x +5*x**2)\n",
    "list = []\n",
    "\n",
    "p1.eval(2) # evaluate at given (ei \"2x=5\")\n"
   ]
  },
  {
   "cell_type": "code",
   "execution_count": 46,
   "metadata": {},
   "outputs": [
    {
     "data": {
      "text/plain": [
       "[2, 1, -1]"
      ]
     },
     "metadata": {},
     "output_type": "display_data"
    },
    {
     "data": {
      "text/latex": [
       "$\\displaystyle \\operatorname{Poly}{\\left( 2 x^{3} + x^{2} - x, x, domain=\\mathbb{Z} \\right)}$"
      ],
      "text/plain": [
       "Poly(2*x**3 + x**2 - x, x, domain='ZZ')"
      ]
     },
     "metadata": {},
     "output_type": "display_data"
    }
   ],
   "source": [
    "# technique for displaying coefficients\n",
    "p1 = sym.Poly(2*x**3 + x**2 -x)\n",
    "\n",
    "display(p1.coeffs())\n",
    "display(p1)"
   ]
  },
  {
   "cell_type": "code",
   "execution_count": 19,
   "metadata": {},
   "outputs": [
    {
     "data": {
      "text/latex": [
       "$\\displaystyle 3$"
      ],
      "text/plain": [
       "3"
      ]
     },
     "metadata": {},
     "output_type": "display_data"
    },
    {
     "data": {
      "text/plain": [
       "2"
      ]
     },
     "metadata": {},
     "output_type": "display_data"
    },
    {
     "data": {
      "text/plain": [
       "3"
      ]
     },
     "metadata": {},
     "output_type": "display_data"
    }
   ],
   "source": [
    "# exercise.independent\n",
    "\n",
    "x = sym.symbols('x')\n",
    "poly1 = sym.Poly(x**2 + 2*x)\n",
    "poly2 = sym.Poly(-x**3 + 4*x)\n",
    "poly3 = sym.Poly(x**5 - 4**x + x/(4+4))\n",
    "\n",
    "polist = [poly1,poly2,poly3]\n",
    "\n",
    "coef = polist[0].coeffs()\n",
    "evall = polist[0].eval(2)\n",
    "\n",
    "# -----------------------\n",
    "\n",
    "# print(polist[0].degree())\n",
    "for i in range(0,3):\n",
    "    pitem = polist[i].degree()\n",
    "#     print(pitem % 2)\n",
    "#     display(str(polist[i]))\n",
    "    if pitem % 2 is 0:\n",
    "#         sum = \n",
    "        display(sum(polist[i].coeffs()))\n",
    "    else:\n",
    "        display(len(polist[i].coeffs()))"
   ]
  },
  {
   "cell_type": "code",
   "execution_count": 28,
   "metadata": {},
   "outputs": [
    {
     "data": {
      "text/plain": [
       "'the degree of x**2 + 2*x is even, and the coefficients sum to 3'"
      ]
     },
     "metadata": {},
     "output_type": "display_data"
    },
    {
     "name": "stdout",
     "output_type": "stream",
     "text": [
      "the degree of -x**3 + 4*x is odd, and there are 2 coefficients\n",
      "the degree of x**5 - x**4 + x/4 + 4 is odd, and there are 4 coefficients\n"
     ]
    }
   ],
   "source": [
    "# exercise.instructed\n",
    "polys = [ sym.poly(2*x + x**2) , sym.Poly(-x**3 + 4*x) , sym.Poly(x**5 - x**4 + x/4 + 4) ] \n",
    "\n",
    "for poli in polys:\n",
    "    if poli.degree()%2==0:\n",
    "        display('the degree of %s is even, and the coefficients sum to %g' %(poli.as_expr(),sum(poli.coeffs())))\n",
    "    else:\n",
    "        print('the degree of %s is odd, and there are %g coefficients' %(poli.as_expr(),len(poli.coeffs())))"
   ]
  },
  {
   "cell_type": "code",
   "execution_count": null,
   "metadata": {},
   "outputs": [],
   "source": [
    "# poli.as_expr() displays polynomial as expression"
   ]
  },
  {
   "cell_type": "code",
   "execution_count": 54,
   "metadata": {},
   "outputs": [
    {
     "data": {
      "text/latex": [
       "$\\displaystyle \\text{the degree of } x^{2} + 2 x \\text{ is even, and the coefficients sum to } 3$"
      ],
      "text/plain": [
       "<IPython.core.display.Math object>"
      ]
     },
     "metadata": {},
     "output_type": "display_data"
    },
    {
     "data": {
      "text/latex": [
       "$\\displaystyle \\text{the degree of } - x^{3} + 4 x \\text{ is odd, and there are } 2 \\text{ coefficients}$"
      ],
      "text/plain": [
       "<IPython.core.display.Math object>"
      ]
     },
     "metadata": {},
     "output_type": "display_data"
    },
    {
     "data": {
      "text/latex": [
       "$\\displaystyle \\text{the degree of } x^{5} - x^{4} + \\frac{x}{4} + 4 \\text{ is odd, and there are } 4 \\text{ coefficients}$"
      ],
      "text/plain": [
       "<IPython.core.display.Math object>"
      ]
     },
     "metadata": {},
     "output_type": "display_data"
    }
   ],
   "source": [
    "# exercise.instructed.with latex\n",
    "polys = [ sym.poly(2*x + x**2) , sym.Poly(-x**3 + 4*x) , sym.Poly(x**5 - x**4 + x/4 + 4) ] \n",
    "\n",
    "for poli in polys:\n",
    "    if poli.degree()%2==0:\n",
    "        display(Math('\\\\text{the degree of } %s \\\\text{ is even, and the coefficients sum to } %s' %(sym.latex(poli.as_expr()),sym.latex(sum(poli.coeffs())))))\n",
    "    else:\n",
    "        display(Math('\\\\text{the degree of } %s \\\\text{ is odd, and there are } %s \\\\text{ coefficients}' %(sym.latex(poli.as_expr()),len(poli.coeffs()))))"
   ]
  }
 ],
 "metadata": {
  "kernelspec": {
   "display_name": "Python 3",
   "language": "python",
   "name": "python3"
  },
  "language_info": {
   "codemirror_mode": {
    "name": "ipython",
    "version": 3
   },
   "file_extension": ".py",
   "mimetype": "text/x-python",
   "name": "python",
   "nbconvert_exporter": "python",
   "pygments_lexer": "ipython3",
   "version": "3.7.6"
  }
 },
 "nbformat": 4,
 "nbformat_minor": 4
}
